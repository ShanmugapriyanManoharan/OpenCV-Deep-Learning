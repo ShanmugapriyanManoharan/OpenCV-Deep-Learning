{
  "nbformat": 4,
  "nbformat_minor": 0,
  "metadata": {
    "colab": {
      "name": "Shape Detector.ipynb",
      "provenance": [],
      "collapsed_sections": [],
      "authorship_tag": "ABX9TyODYqATwUrleeOFo0uIKf7f",
      "include_colab_link": true
    },
    "kernelspec": {
      "name": "python3",
      "display_name": "Python 3"
    },
    "accelerator": "GPU"
  },
  "cells": [
    {
      "cell_type": "markdown",
      "metadata": {
        "id": "view-in-github",
        "colab_type": "text"
      },
      "source": [
        "<a href=\"https://colab.research.google.com/github/ShanmugapriyanManoharan/OpenCV-Deep-Learning/blob/master/Shape_Detector.ipynb\" target=\"_parent\"><img src=\"https://colab.research.google.com/assets/colab-badge.svg\" alt=\"Open In Colab\"/></a>"
      ]
    },
    {
      "cell_type": "code",
      "metadata": {
        "id": "ed2RePPzE-6n",
        "colab_type": "code",
        "colab": {}
      },
      "source": [
        "import cv2\n",
        "import imutils\n",
        "import cv2\n",
        "from google.colab.patches import cv2_imshow"
      ],
      "execution_count": 0,
      "outputs": []
    },
    {
      "cell_type": "code",
      "metadata": {
        "id": "8k2N3nrDFHvE",
        "colab_type": "code",
        "colab": {}
      },
      "source": [
        "class ShapeDetector:\n",
        "\tdef __init__(self):\n",
        "\t\tpass\n",
        "\n",
        "\tdef detect(self, c):\n",
        "\t\t# Initialize the name of shape and approximate the contour\n",
        "\t\tshape = \"unidentified\"\n",
        "\t\tperi = cv2.arcLength(c, True)\n",
        "\t\tapprox = cv2.approxPolyDP(c, 0.04 * peri, True)\n",
        "\n",
        "\t\t# If vertices = 3, then triangle\n",
        "\t\tif len(approx) == 3:\n",
        "\t\t\tshape = \"triangle\"\n",
        "\n",
        "\t\t# If vertices = 4, then rectangle or square\n",
        "\t\telif len(approx) == 4:\n",
        "\t\t\t# Compute aspect ratio using bounding box of the contour\n",
        "\t\t\t(x, y, w, h) = cv2.boundingRect(approx)\n",
        "\t\t\tar = w / float(h)\n",
        "\n",
        "\t\t\t# If aspect ratio near to 1, then shape is square. otherwise rectangle\n",
        "\t\t\tshape = \"square\" if ar >= 0.95 and ar <= 1.05 else \"rectangle\"\n",
        "\n",
        "\t\t# If vertices =5, then pentagon\n",
        "\t\telif len(approx) == 5:\n",
        "\t\t\tshape = \"pentagon\"\n",
        "\n",
        "    # If vertices =6, then Hexagon\n",
        "\t\telif len(approx) == 6:\n",
        "\t\t\tshape = \"Hexagon\"\n",
        "\n",
        "\t\t# Else, the shape is assumed to be circle\n",
        "\t\telse:\n",
        "\t\t\tshape = \"circle\"\n",
        "\n",
        "\t\t# return the name of the shape\n",
        "\t\treturn shape"
      ],
      "execution_count": 0,
      "outputs": []
    },
    {
      "cell_type": "code",
      "metadata": {
        "id": "XNTbbVDJFLaR",
        "colab_type": "code",
        "colab": {}
      },
      "source": [
        "# load the image and resize using imutils to a smaller factor so that the shapes can be approximated better\n",
        "image = cv2.imread(\"shapes.png\")\n",
        "resized = imutils.resize(image, width=300)\n",
        "ratio = image.shape[0] / float(resized.shape[0])"
      ],
      "execution_count": 0,
      "outputs": []
    },
    {
      "cell_type": "code",
      "metadata": {
        "id": "mh1sAmp9FncN",
        "colab_type": "code",
        "colab": {}
      },
      "source": [
        "# Grayscale the image and blur the image and threshold it\n",
        "gray = cv2.cvtColor(resized, cv2.COLOR_BGR2GRAY)\n",
        "blurred = cv2.GaussianBlur(gray, (5, 5), 0)\n",
        "thresh = cv2.threshold(blurred, 60, 255, cv2.THRESH_BINARY)[1]"
      ],
      "execution_count": 0,
      "outputs": []
    },
    {
      "cell_type": "code",
      "metadata": {
        "id": "iyltoFHAFp7o",
        "colab_type": "code",
        "colab": {}
      },
      "source": [
        "# find contours in the thresholded image and initialize the shape detector\n",
        "cnts = cv2.findContours(thresh.copy(), cv2.RETR_EXTERNAL,\n",
        "\tcv2.CHAIN_APPROX_SIMPLE)\n",
        "cnts = imutils.grab_contours(cnts)\n",
        "sd = ShapeDetector()"
      ],
      "execution_count": 0,
      "outputs": []
    },
    {
      "cell_type": "code",
      "metadata": {
        "id": "jLq6-5WOFr_a",
        "colab_type": "code",
        "colab": {
          "base_uri": "https://localhost:8080/",
          "height": 1000
        },
        "outputId": "6038197c-0611-4fc0-8c74-72ab8b98813c"
      },
      "source": [
        "# loop over the contours\n",
        "for c in cnts:\n",
        "\t# compute the center of the contour, then detect the name of the shape\n",
        "\tM = cv2.moments(c)\n",
        "\tcX = int((M[\"m10\"] / M[\"m00\"]) * ratio)\n",
        "\tcY = int((M[\"m01\"] / M[\"m00\"]) * ratio)\n",
        "\tshape = sd.detect(c)\n",
        "\n",
        "\t# multiply the contour (x, y)-coordinates by the resize ratio,\n",
        "\t# then draw the contours and the name of the shape on the image\n",
        "\tc = c.astype(\"float\")\n",
        "\tc *= ratio\n",
        "\tc = c.astype(\"int\")\n",
        "\tcv2.drawContours(image, [c], -1, (0, 255, 0), 2)\n",
        "\tcv2.putText(image, shape, (cX, cY), cv2.FONT_HERSHEY_SIMPLEX,\n",
        "\t\t0.5, (255, 255, 255), 2)\n",
        "\n",
        "\t# Display the output image\n",
        "\tcv2_imshow(image)"
      ],
      "execution_count": 40,
      "outputs": [
        {
          "output_type": "display_data",
          "data": {
            "image/png": "[encoded data removed]",
            "text/plain": [
              "<PIL.Image.Image image mode=RGB size=601x462 at 0x7FDBA5C19B38>"
            ]
          },
          "metadata": {
            "tags": []
          }
        },
        {
          "output_type": "display_data",
          "data": {
            "image/png": "[encoded data removed]",
            "text/plain": [
              "<PIL.Image.Image image mode=RGB size=601x462 at 0x7FDBA64894A8>"
            ]
          },
          "metadata": {
            "tags": []
          }
        },
        {
          "output_type": "display_data",
          "data": {
            "image/png": "[encoded data removed]",
            "text/plain": [
              "<PIL.Image.Image image mode=RGB size=601x462 at 0x7FDBA5C19AC8>"
            ]
          },
          "metadata": {
            "tags": []
          }
        },
        {
          "output_type": "display_data",
          "data": {
            "image/png": "[encoded data removed]",
            "text/plain": [
              "<PIL.Image.Image image mode=RGB size=601x462 at 0x7FDBA6489080>"
            ]
          },
          "metadata": {
            "tags": []
          }
        },
        {
          "output_type": "display_data",
          "data": {
            "image/png": "[encoded data removed]",
            "text/plain": [
              "<PIL.Image.Image image mode=RGB size=601x462 at 0x7FDBA5C19A90>"
            ]
          },
          "metadata": {
            "tags": []
          }
        },
        {
          "output_type": "display_data",
          "data": {
            "image/png": "[encoded data removed]",
            "text/plain": [
              "<PIL.Image.Image image mode=RGB size=601x462 at 0x7FDBA6489C18>"
            ]
          },
          "metadata": {
            "tags": []
          }
        },
        {
          "output_type": "display_data",
          "data": {
            "image/png": "[encoded data removed]",
            "text/plain": [
              "<PIL.Image.Image image mode=RGB size=601x462 at 0x7FDBA5C19AC8>"
            ]
          },
          "metadata": {
            "tags": []
          }
        }
      ]
    },
    {
      "cell_type": "code",
      "metadata": {
        "id": "BnBuwLKOFw1r",
        "colab_type": "code",
        "colab": {}
      },
      "source": [
        ""
      ],
      "execution_count": 0,
      "outputs": []
    }
  ]
}