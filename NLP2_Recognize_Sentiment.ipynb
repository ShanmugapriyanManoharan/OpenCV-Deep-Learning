{
  "nbformat": 4,
  "nbformat_minor": 0,
  "metadata": {
    "colab": {
      "name": "NLP2-Recognize Sentiment.ipynb",
      "provenance": [],
      "collapsed_sections": [],
      "authorship_tag": "ABX9TyOOv50DF2+VBHBcbzzO8v5B",
      "include_colab_link": true
    },
    "kernelspec": {
      "name": "python3",
      "display_name": "Python 3"
    },
    "accelerator": "GPU"
  },
  "cells": [
    {
      "cell_type": "markdown",
      "metadata": {
        "id": "view-in-github",
        "colab_type": "text"
      },
      "source": [
        "<a href=\"https://colab.research.google.com/github/ShanmugapriyanManoharan/OpenCV-Deep-Learning/blob/master/NLP2_Recognize_Sentiment.ipynb\" target=\"_parent\"><img src=\"https://colab.research.google.com/assets/colab-badge.svg\" alt=\"Open In Colab\"/></a>"
      ]
    },
    {
      "cell_type": "code",
      "metadata": {
        "id": "BcRK8t7KLjYl",
        "colab_type": "code",
        "colab": {}
      },
      "source": [
        "import json\n",
        "import tensorflow as tf"
      ],
      "execution_count": 0,
      "outputs": []
    },
    {
      "cell_type": "code",
      "metadata": {
        "id": "K1NaZlFLL_l0",
        "colab_type": "code",
        "colab": {}
      },
      "source": [
        "vocab_size = 10000\n",
        "embedding_dim = 32\n",
        "max_length = 100\n",
        "trunc_type='post'\n",
        "padding_type='post'\n",
        "oov_tok = \"<OOV>\"\n",
        "training_size = 20000"
      ],
      "execution_count": 0,
      "outputs": []
    },
    {
      "cell_type": "code",
      "metadata": {
        "id": "RhezTX9RMEd4",
        "colab_type": "code",
        "colab": {
          "base_uri": "https://localhost:8080/",
          "height": 204
        },
        "outputId": "36b9a766-99b4-440d-9d3a-55c22272faa7"
      },
      "source": [
        "#downloading the dataset\n",
        "!wget --no-check-certificate \\\n",
        "    https://storage.googleapis.com/laurencemoroney-blog.appspot.com/sarcasm.json \\\n",
        "    -O /tmp/sarcasm.json"
      ],
      "execution_count": 3,
      "outputs": [
        {
          "output_type": "stream",
          "text": [
            "--2020-06-03 21:57:37--  https://storage.googleapis.com/laurencemoroney-blog.appspot.com/sarcasm.json\n",
            "Resolving storage.googleapis.com (storage.googleapis.com)... 74.125.142.128, 2607:f8b0:400e:c06::80\n",
            "Connecting to storage.googleapis.com (storage.googleapis.com)|74.125.142.128|:443... connected.\n",
            "HTTP request sent, awaiting response... 200 OK\n",
            "Length: 5643545 (5.4M) [application/json]\n",
            "Saving to: ‘/tmp/sarcasm.json’\n",
            "\n",
            "\r/tmp/sarcasm.json     0%[                    ]       0  --.-KB/s               \r/tmp/sarcasm.json   100%[===================>]   5.38M  --.-KB/s    in 0.05s   \n",
            "\n",
            "2020-06-03 21:57:37 (97.9 MB/s) - ‘/tmp/sarcasm.json’ saved [5643545/5643545]\n",
            "\n"
          ],
          "name": "stdout"
        }
      ]
    },
    {
      "cell_type": "code",
      "metadata": {
        "id": "UtVyl6yEMIv6",
        "colab_type": "code",
        "colab": {}
      },
      "source": [
        "with open(\"/tmp/sarcasm.json\", 'r') as f:\n",
        "    datastore = json.load(f)\n",
        "\n",
        "sentences = []\n",
        "labels = []\n",
        "\n",
        "for item in datastore:\n",
        "    sentences.append(item['headline'])\n",
        "    labels.append(item['is_sarcastic'])"
      ],
      "execution_count": 0,
      "outputs": []
    },
    {
      "cell_type": "code",
      "metadata": {
        "id": "kTlM_Bn1MMSX",
        "colab_type": "code",
        "colab": {}
      },
      "source": [
        "#Splitting the training and test data\n",
        "training_sentences = sentences[0:training_size]\n",
        "testing_sentences = sentences[training_size:]\n",
        "training_labels = labels[0:training_size]\n",
        "testing_labels = labels[training_size:]"
      ],
      "execution_count": 0,
      "outputs": []
    },
    {
      "cell_type": "code",
      "metadata": {
        "id": "MbdoE_XLMZfm",
        "colab_type": "code",
        "colab": {}
      },
      "source": [
        "from tensorflow.keras.preprocessing.text import Tokenizer\n",
        "from tensorflow.keras.preprocessing.sequence import pad_sequences"
      ],
      "execution_count": 0,
      "outputs": []
    },
    {
      "cell_type": "code",
      "metadata": {
        "id": "n2macz1JMXT-",
        "colab_type": "code",
        "colab": {}
      },
      "source": [
        "tokenizer = Tokenizer(num_words=vocab_size, oov_token=oov_tok)\n",
        "tokenizer.fit_on_texts(training_sentences)"
      ],
      "execution_count": 0,
      "outputs": []
    },
    {
      "cell_type": "code",
      "metadata": {
        "id": "fY-LT0lxMffm",
        "colab_type": "code",
        "colab": {}
      },
      "source": [
        "word_index = tokenizer.word_index"
      ],
      "execution_count": 0,
      "outputs": []
    },
    {
      "cell_type": "code",
      "metadata": {
        "id": "qzOw9LTjMi_9",
        "colab_type": "code",
        "colab": {}
      },
      "source": [
        "#Training sequence\n",
        "training_sequences = tokenizer.texts_to_sequences(training_sentences)\n",
        "training_padded = pad_sequences(training_sequences, maxlen=max_length, padding=padding_type, truncating=trunc_type)"
      ],
      "execution_count": 0,
      "outputs": []
    },
    {
      "cell_type": "code",
      "metadata": {
        "id": "rVDS3BNlMnXo",
        "colab_type": "code",
        "colab": {}
      },
      "source": [
        "#Testing sequence\n",
        "testing_sequences = tokenizer.texts_to_sequences(testing_sentences)\n",
        "testing_padded = pad_sequences(testing_sequences, maxlen=max_length, padding=padding_type, truncating=trunc_type)"
      ],
      "execution_count": 0,
      "outputs": []
    },
    {
      "cell_type": "code",
      "metadata": {
        "id": "aDa5NEvwMrA5",
        "colab_type": "code",
        "colab": {}
      },
      "source": [
        "#Converting the sequences into numpy array\n",
        "import numpy as np"
      ],
      "execution_count": 0,
      "outputs": []
    },
    {
      "cell_type": "code",
      "metadata": {
        "id": "01ZtyaH1MzfM",
        "colab_type": "code",
        "colab": {}
      },
      "source": [
        "training_padded = np.array(training_padded)\n",
        "training_labels = np.array(training_labels)\n",
        "testing_padded = np.array(testing_padded)\n",
        "testing_labels = np.array(testing_labels)"
      ],
      "execution_count": 0,
      "outputs": []
    },
    {
      "cell_type": "code",
      "metadata": {
        "id": "sYJpn6g_M1B6",
        "colab_type": "code",
        "colab": {}
      },
      "source": [
        "#Model\n",
        "model = tf.keras.Sequential([\n",
        "    tf.keras.layers.Embedding(vocab_size, embedding_dim, input_length=max_length),\n",
        "    tf.keras.layers.GlobalAveragePooling1D(),\n",
        "    tf.keras.layers.Dense(24, activation='relu'),\n",
        "    tf.keras.layers.Dense(1, activation='sigmoid')\n",
        "])\n",
        "model.compile(loss='binary_crossentropy',optimizer='adam',metrics=['accuracy'])"
      ],
      "execution_count": 0,
      "outputs": []
    },
    {
      "cell_type": "code",
      "metadata": {
        "id": "JpqFMqrjM4w7",
        "colab_type": "code",
        "colab": {
          "base_uri": "https://localhost:8080/",
          "height": 289
        },
        "outputId": "0aefa4da-c627-4c70-8b83-5fe9a4af0fd8"
      },
      "source": [
        "model.summary()"
      ],
      "execution_count": 42,
      "outputs": [
        {
          "output_type": "stream",
          "text": [
            "Model: \"sequential_1\"\n",
            "_________________________________________________________________\n",
            "Layer (type)                 Output Shape              Param #   \n",
            "=================================================================\n",
            "embedding_1 (Embedding)      (None, 100, 32)           320000    \n",
            "_________________________________________________________________\n",
            "global_average_pooling1d_1 ( (None, 32)                0         \n",
            "_________________________________________________________________\n",
            "dense_2 (Dense)              (None, 24)                792       \n",
            "_________________________________________________________________\n",
            "dense_3 (Dense)              (None, 1)                 25        \n",
            "=================================================================\n",
            "Total params: 320,817\n",
            "Trainable params: 320,817\n",
            "Non-trainable params: 0\n",
            "_________________________________________________________________\n"
          ],
          "name": "stdout"
        }
      ]
    },
    {
      "cell_type": "code",
      "metadata": {
        "id": "yatb46nmM7Nz",
        "colab_type": "code",
        "colab": {
          "base_uri": "https://localhost:8080/",
          "height": 1000
        },
        "outputId": "f1a2426e-f593-4bf4-bbfa-a6c21cd1df6e"
      },
      "source": [
        "num_epochs = 30\n",
        "history = model.fit(training_padded, training_labels, epochs=num_epochs, validation_data=(testing_padded, testing_labels), verbose=2)"
      ],
      "execution_count": 43,
      "outputs": [
        {
          "output_type": "stream",
          "text": [
            "Epoch 1/30\n",
            "625/625 - 4s - loss: 0.6394 - accuracy: 0.6273 - val_loss: 0.4994 - val_accuracy: 0.8134\n",
            "Epoch 2/30\n",
            "625/625 - 4s - loss: 0.3768 - accuracy: 0.8495 - val_loss: 0.3623 - val_accuracy: 0.8496\n",
            "Epoch 3/30\n",
            "625/625 - 4s - loss: 0.2819 - accuracy: 0.8877 - val_loss: 0.3580 - val_accuracy: 0.8365\n",
            "Epoch 4/30\n",
            "625/625 - 4s - loss: 0.2314 - accuracy: 0.9097 - val_loss: 0.3421 - val_accuracy: 0.8569\n",
            "Epoch 5/30\n",
            "625/625 - 4s - loss: 0.1964 - accuracy: 0.9237 - val_loss: 0.3704 - val_accuracy: 0.8487\n",
            "Epoch 6/30\n",
            "625/625 - 4s - loss: 0.1714 - accuracy: 0.9355 - val_loss: 0.3710 - val_accuracy: 0.8533\n",
            "Epoch 7/30\n",
            "625/625 - 4s - loss: 0.1495 - accuracy: 0.9443 - val_loss: 0.3910 - val_accuracy: 0.8489\n",
            "Epoch 8/30\n",
            "625/625 - 4s - loss: 0.1333 - accuracy: 0.9525 - val_loss: 0.4141 - val_accuracy: 0.8471\n",
            "Epoch 9/30\n",
            "625/625 - 4s - loss: 0.1195 - accuracy: 0.9579 - val_loss: 0.4374 - val_accuracy: 0.8477\n",
            "Epoch 10/30\n",
            "625/625 - 4s - loss: 0.1071 - accuracy: 0.9630 - val_loss: 0.5188 - val_accuracy: 0.8255\n",
            "Epoch 11/30\n",
            "625/625 - 4s - loss: 0.0945 - accuracy: 0.9677 - val_loss: 0.5049 - val_accuracy: 0.8380\n",
            "Epoch 12/30\n",
            "625/625 - 4s - loss: 0.0841 - accuracy: 0.9726 - val_loss: 0.5431 - val_accuracy: 0.8360\n",
            "Epoch 13/30\n",
            "625/625 - 4s - loss: 0.0790 - accuracy: 0.9730 - val_loss: 0.5654 - val_accuracy: 0.8372\n",
            "Epoch 14/30\n",
            "625/625 - 4s - loss: 0.0717 - accuracy: 0.9758 - val_loss: 0.6008 - val_accuracy: 0.8334\n",
            "Epoch 15/30\n",
            "625/625 - 4s - loss: 0.0635 - accuracy: 0.9793 - val_loss: 0.6312 - val_accuracy: 0.8319\n",
            "Epoch 16/30\n",
            "625/625 - 4s - loss: 0.0579 - accuracy: 0.9815 - val_loss: 0.6691 - val_accuracy: 0.8278\n",
            "Epoch 17/30\n",
            "625/625 - 4s - loss: 0.0532 - accuracy: 0.9833 - val_loss: 0.7129 - val_accuracy: 0.8255\n",
            "Epoch 18/30\n",
            "625/625 - 4s - loss: 0.0482 - accuracy: 0.9854 - val_loss: 0.7497 - val_accuracy: 0.8241\n",
            "Epoch 19/30\n",
            "625/625 - 4s - loss: 0.0428 - accuracy: 0.9870 - val_loss: 0.7846 - val_accuracy: 0.8225\n",
            "Epoch 20/30\n",
            "625/625 - 4s - loss: 0.0423 - accuracy: 0.9872 - val_loss: 0.8178 - val_accuracy: 0.8222\n",
            "Epoch 21/30\n",
            "625/625 - 4s - loss: 0.0390 - accuracy: 0.9869 - val_loss: 0.8811 - val_accuracy: 0.8162\n",
            "Epoch 22/30\n",
            "625/625 - 4s - loss: 0.0328 - accuracy: 0.9904 - val_loss: 0.9314 - val_accuracy: 0.8137\n",
            "Epoch 23/30\n",
            "625/625 - 4s - loss: 0.0293 - accuracy: 0.9916 - val_loss: 0.9954 - val_accuracy: 0.8100\n",
            "Epoch 24/30\n",
            "625/625 - 4s - loss: 0.0289 - accuracy: 0.9905 - val_loss: 0.9996 - val_accuracy: 0.8141\n",
            "Epoch 25/30\n",
            "625/625 - 4s - loss: 0.0256 - accuracy: 0.9923 - val_loss: 1.1013 - val_accuracy: 0.8091\n",
            "Epoch 26/30\n",
            "625/625 - 4s - loss: 0.0233 - accuracy: 0.9934 - val_loss: 1.1350 - val_accuracy: 0.8059\n",
            "Epoch 27/30\n",
            "625/625 - 4s - loss: 0.0252 - accuracy: 0.9917 - val_loss: 1.1226 - val_accuracy: 0.8100\n",
            "Epoch 28/30\n",
            "625/625 - 4s - loss: 0.0214 - accuracy: 0.9937 - val_loss: 1.1675 - val_accuracy: 0.8094\n",
            "Epoch 29/30\n",
            "625/625 - 4s - loss: 0.0197 - accuracy: 0.9943 - val_loss: 1.2279 - val_accuracy: 0.8089\n",
            "Epoch 30/30\n",
            "625/625 - 4s - loss: 0.0198 - accuracy: 0.9940 - val_loss: 1.2290 - val_accuracy: 0.8071\n"
          ],
          "name": "stdout"
        }
      ]
    },
    {
      "cell_type": "code",
      "metadata": {
        "id": "QTBNXoh7M9hU",
        "colab_type": "code",
        "colab": {}
      },
      "source": [
        "#For plotting accuracy & loss\n",
        "import matplotlib.pyplot as plt"
      ],
      "execution_count": 0,
      "outputs": []
    },
    {
      "cell_type": "code",
      "metadata": {
        "id": "-vsg3-P2NNGp",
        "colab_type": "code",
        "colab": {}
      },
      "source": [
        "def plot_graphs(history, string):\n",
        "  plt.plot(history.history[string])\n",
        "  plt.plot(history.history['val_'+string])\n",
        "  plt.xlabel(\"Epochs\")\n",
        "  plt.ylabel(string)\n",
        "  plt.legend([string, 'val_'+string])\n",
        "  plt.show()"
      ],
      "execution_count": 0,
      "outputs": []
    },
    {
      "cell_type": "code",
      "metadata": {
        "id": "tMP997mlNOt9",
        "colab_type": "code",
        "colab": {
          "base_uri": "https://localhost:8080/",
          "height": 279
        },
        "outputId": "5631585f-2a7c-4429-df5b-e76d9ac15485"
      },
      "source": [
        "plot_graphs(history, \"accuracy\")"
      ],
      "execution_count": 46,
      "outputs": [
        {
          "output_type": "display_data",
          "data": {
            "image/png": "[encoded data removed]",
            "text/plain": [
              "<Figure size 432x288 with 1 Axes>"
            ]
          },
          "metadata": {
            "tags": [],
            "needs_background": "light"
          }
        }
      ]
    },
    {
      "cell_type": "code",
      "metadata": {
        "id": "fzOl_sFENQK_",
        "colab_type": "code",
        "colab": {
          "base_uri": "https://localhost:8080/",
          "height": 279
        },
        "outputId": "19c30762-441f-427a-bc8e-50fd3e501138"
      },
      "source": [
        "plot_graphs(history, \"loss\")"
      ],
      "execution_count": 47,
      "outputs": [
        {
          "output_type": "display_data",
          "data": {
            "image/png": "[encoded data removed]",
            "text/plain": [
              "<Figure size 432x288 with 1 Axes>"
            ]
          },
          "metadata": {
            "tags": [],
            "needs_background": "light"
          }
        }
      ]
    },
    {
      "cell_type": "code",
      "metadata": {
        "id": "5s7zhOYqNYnK",
        "colab_type": "code",
        "colab": {}
      },
      "source": [
        "#Reversing the token into sentence (words)\n",
        "reverse_word_index = dict([(value, key) for (key, value) in word_index.items()])"
      ],
      "execution_count": 0,
      "outputs": []
    },
    {
      "cell_type": "code",
      "metadata": {
        "id": "0ux8pZ_3NjuK",
        "colab_type": "code",
        "colab": {}
      },
      "source": [
        "def decode_sentence(text):\n",
        "    return ' '.join([reverse_word_index.get(i, '?') for i in text])"
      ],
      "execution_count": 0,
      "outputs": []
    },
    {
      "cell_type": "code",
      "metadata": {
        "id": "mqhe0N25NlYT",
        "colab_type": "code",
        "colab": {
          "base_uri": "https://localhost:8080/",
          "height": 54
        },
        "outputId": "2142cc4b-9d54-4331-e7da-a023bda4c724"
      },
      "source": [
        "print(decode_sentence(training_padded[0]))"
      ],
      "execution_count": 50,
      "outputs": [
        {
          "output_type": "stream",
          "text": [
            "former <OOV> store clerk sues over secret 'black <OOV> for minority shoppers ? ? ? ? ? ? ? ? ? ? ? ? ? ? ? ? ? ? ? ? ? ? ? ? ? ? ? ? ? ? ? ? ? ? ? ? ? ? ? ? ? ? ? ? ? ? ? ? ? ? ? ? ? ? ? ? ? ? ? ? ? ? ? ? ? ? ? ? ? ? ? ? ? ? ? ? ? ? ? ? ? ? ? ? ? ? ? ?\n"
          ],
          "name": "stdout"
        }
      ]
    },
    {
      "cell_type": "code",
      "metadata": {
        "id": "Mn4U3vG4NnEn",
        "colab_type": "code",
        "colab": {
          "base_uri": "https://localhost:8080/",
          "height": 51
        },
        "outputId": "91cbe491-8c1a-4100-bb8a-1a4e5717fad8"
      },
      "source": [
        "print(training_sentences[2])\n",
        "print(labels[2])"
      ],
      "execution_count": 51,
      "outputs": [
        {
          "output_type": "stream",
          "text": [
            "mom starting to fear son's web series closest thing she will have to grandchild\n",
            "1\n"
          ],
          "name": "stdout"
        }
      ]
    },
    {
      "cell_type": "code",
      "metadata": {
        "id": "4zZGjUuANp3u",
        "colab_type": "code",
        "colab": {
          "base_uri": "https://localhost:8080/",
          "height": 34
        },
        "outputId": "97b443cb-81d3-42ed-b483-f0c8cdd39807"
      },
      "source": [
        "e = model.layers[0]\n",
        "weights = e.get_weights()[0]\n",
        "print(weights.shape) # shape: (vocab_size, embedding_dim)"
      ],
      "execution_count": 52,
      "outputs": [
        {
          "output_type": "stream",
          "text": [
            "(10000, 32)\n"
          ],
          "name": "stdout"
        }
      ]
    },
    {
      "cell_type": "code",
      "metadata": {
        "id": "wPIIK_OJN5s6",
        "colab_type": "code",
        "colab": {}
      },
      "source": [
        "#writing into the file\n",
        "import io\n",
        "\n",
        "out_v = io.open('vecs.tsv', 'w', encoding='utf-8')\n",
        "out_m = io.open('meta.tsv', 'w', encoding='utf-8')\n",
        "for word_num in range(1, vocab_size):\n",
        "  word = reverse_word_index[word_num]\n",
        "  embeddings = weights[word_num]\n",
        "  out_m.write(word + \"\\n\")\n",
        "  out_v.write('\\t'.join([str(x) for x in embeddings]) + \"\\n\")\n",
        "out_v.close()\n",
        "out_m.close()"
      ],
      "execution_count": 0,
      "outputs": []
    },
    {
      "cell_type": "code",
      "metadata": {
        "id": "WBA23lAgOGth",
        "colab_type": "code",
        "colab": {}
      },
      "source": [
        "#For importing/downloading the files\n",
        "try:\n",
        "  from google.colab import files\n",
        "except ImportError:\n",
        "  pass\n",
        "else:\n",
        "  files.download('vecs.tsv')\n",
        "  files.download('meta.tsv')"
      ],
      "execution_count": 0,
      "outputs": []
    },
    {
      "cell_type": "code",
      "metadata": {
        "id": "Q2Glslu8OKqK",
        "colab_type": "code",
        "colab": {
          "base_uri": "https://localhost:8080/",
          "height": 51
        },
        "outputId": "89d67570-b9a8-4615-81a0-965171b40cf7"
      },
      "source": [
        "sentence = [\"India wins the cricket worldcup\", \"the corona is killing the people\"]\n",
        "sequences = tokenizer.texts_to_sequences(sentence)\n",
        "padded = pad_sequences(sequences, maxlen=max_length, padding=padding_type, truncating=trunc_type)\n",
        "print(model.predict(padded))#0 to 1 -> indicates scarastic\n",
        "#0 to -1 -> indicates non-scarastic"
      ],
      "execution_count": 54,
      "outputs": [
        {
          "output_type": "stream",
          "text": [
            "[[5.5366363e-02]\n",
            " [6.8589407e-06]]\n"
          ],
          "name": "stdout"
        }
      ]
    },
    {
      "cell_type": "code",
      "metadata": {
        "id": "WfElnKuUORK4",
        "colab_type": "code",
        "colab": {}
      },
      "source": [
        ""
      ],
      "execution_count": 0,
      "outputs": []
    }
  ]
}