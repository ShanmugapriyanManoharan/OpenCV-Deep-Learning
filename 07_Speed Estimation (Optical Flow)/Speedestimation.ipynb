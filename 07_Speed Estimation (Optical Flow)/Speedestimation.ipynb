{
  "nbformat": 4,
  "nbformat_minor": 0,
  "metadata": {
    "colab": {
      "name": "Speedestimation.ipynb",
      "provenance": [],
      "collapsed_sections": [],
      "mount_file_id": "1fo1dKAY_z1BwnUNAEIGxMOwv8d5MN5CT",
      "authorship_tag": "ABX9TyMJY0msQSQUp3Z3Hd125G60",
      "include_colab_link": true
    },
    "kernelspec": {
      "name": "python3",
      "display_name": "Python 3"
    },
    "accelerator": "GPU"
  },
  "cells": [
    {
      "cell_type": "markdown",
      "metadata": {
        "id": "view-in-github",
        "colab_type": "text"
      },
      "source": [
        "<a href=\"https://colab.research.google.com/github/ShanmugapriyanManoharan/OpenCV-Deep-Learning/blob/master/Speedestimation.ipynb\" target=\"_parent\"><img src=\"https://colab.research.google.com/assets/colab-badge.svg\" alt=\"Open In Colab\"/></a>"
      ]
    },
    {
      "cell_type": "markdown",
      "metadata": {
        "id": "9UxQQnAmA5Iz",
        "colab_type": "text"
      },
      "source": [
        "Code to Unzip the folder from the google drive"
      ]
    },
    {
      "cell_type": "code",
      "metadata": {
        "id": "0lET7PuIQ02l",
        "colab_type": "code",
        "outputId": "e799c3cd-19c9-448a-a953-32772a927c6a",
        "colab": {
          "base_uri": "https://localhost:8080/",
          "height": 34
        }
      },
      "source": [
        "from zipfile import ZipFile\n",
        "filename = '/content/drive/My Drive/data.zip'\n",
        "\n",
        "with ZipFile(filename, 'r') as zip1:\n",
        "  zip1.extractall()\n",
        "  print('done')"
      ],
      "execution_count": 1,
      "outputs": [
        {
          "output_type": "stream",
          "text": [
            "done\n"
          ],
          "name": "stdout"
        }
      ]
    },
    {
      "cell_type": "markdown",
      "metadata": {
        "id": "Rxq0Id18BA2c",
        "colab_type": "text"
      },
      "source": [
        "Required Functions (Model, Conver to Optical)"
      ]
    },
    {
      "cell_type": "code",
      "metadata": {
        "id": "kb2ZSLQQQbDk",
        "colab_type": "code",
        "colab": {}
      },
      "source": [
        "from keras.models import Sequential\n",
        "from keras.layers.convolutional import Convolution2D\n",
        "from keras.layers import Flatten, Dense, Lambda, Convolution2D, Cropping2D, Dropout, Reshape, BatchNormalization, ELU\n",
        "from keras.optimizers import Adam\n",
        "#from keras_radam import RAdam"
      ],
      "execution_count": 0,
      "outputs": []
    },
    {
      "cell_type": "code",
      "metadata": {
        "id": "-HMmVOYGQieu",
        "colab_type": "code",
        "colab": {}
      },
      "source": [
        "def CNNModel():\n",
        "    model = Sequential()\n",
        "    model.add(Convolution2D(24, 5, 5, input_shape = (240, 320, 3), subsample=(2,2), init = 'he_normal'))\n",
        "    model.add(ELU())\n",
        "    model.add(Convolution2D(36, 5, 5, subsample=(2,2), init = 'he_normal'))\n",
        "    model.add(ELU())\n",
        "    model.add(Convolution2D(48, 5, 5, subsample=(2,2), init = 'he_normal'))\n",
        "    model.add(ELU())\n",
        "    model.add(Dropout(0.5))\n",
        "    model.add(Convolution2D(64, 3, 3, subsample = (1,1), init = 'he_normal'))\n",
        "    model.add(ELU())\n",
        "    model.add(Convolution2D(64, 3, 3, subsample= (1,1), border_mode = 'valid', init = 'he_normal'))\n",
        "    model.add(Flatten())\n",
        "    model.add(ELU())\n",
        "    model.add(Dense(100, init = 'he_normal'))\n",
        "    model.add(ELU())\n",
        "    model.add(Dense(50, init = 'he_normal'))\n",
        "    # model.add(Dropout(0.5))\n",
        "    model.add(ELU())\n",
        "    model.add(Dense(10, init = 'he_normal'))\n",
        "    model.add(ELU())\n",
        "    model.add(Dense(1, init = 'he_normal'))\n",
        "\n",
        "    adam = Adam(lr=1e-4)\n",
        "    model.compile(optimizer = adam, loss = 'mse')\n",
        "\n",
        "    return model"
      ],
      "execution_count": 0,
      "outputs": []
    },
    {
      "cell_type": "code",
      "metadata": {
        "id": "W8qecibTQmXd",
        "colab_type": "code",
        "colab": {}
      },
      "source": [
        "def convertToOptical(prev_image, curr_image):\n",
        "\n",
        "    prev_image_gray = cv2.cvtColor(prev_image, cv2.COLOR_BGR2GRAY)\n",
        "    curr_image_gray = cv2.cvtColor(curr_image, cv2.COLOR_BGR2GRAY)\n",
        "\n",
        "    flow = cv2.calcOpticalFlowFarneback(prev_image_gray, curr_image_gray, None, 0.5, 3, 15, 3, 5, 1.2, 0)\n",
        "    # flow = cv2.calcOpticalFlowFarneback(prev_image_gray, curr_image_gray, None, 0.5, 2, 15, 2, 5, 1.2, 0)\n",
        "\n",
        "    hsv = np.zeros_like(prev_image)\n",
        "    mag, ang = cv2.cartToPolar(flow[...,0], flow[...,1])\n",
        "    hsv[...,0] = ang*180/np.pi/2\n",
        "    hsv[...,1] = 255\n",
        "    hsv[...,2] = cv2.normalize(mag, None, 0, 255, cv2.NORM_MINMAX)\n",
        "    flow_image_bgr = cv2.cvtColor(hsv, cv2.COLOR_HSV2BGR)\n",
        "\n",
        "    return flow_image_bgr"
      ],
      "execution_count": 0,
      "outputs": []
    },
    {
      "cell_type": "markdown",
      "metadata": {
        "id": "GP2_9fzhBJid",
        "colab_type": "text"
      },
      "source": [
        "Training the Model"
      ]
    },
    {
      "cell_type": "code",
      "metadata": {
        "id": "83DSeMlISqv1",
        "colab_type": "code",
        "colab": {}
      },
      "source": [
        "import cv2\n",
        "import numpy as np\n",
        "import os, sys\n",
        "from os import listdir\n",
        "from os.path import join\n",
        "import matplotlib.pyplot as plt\n",
        "\n",
        "import sklearn\n",
        "from sklearn.model_selection import train_test_split\n",
        "from sklearn.utils import shuffle\n",
        "\n",
        "from keras.models import Sequential\n",
        "from keras.layers import Flatten, Dense, Lambda, Convolution2D, Cropping2D, Dropout, Reshape, BatchNormalization, Activation\n",
        "from keras.callbacks import EarlyStopping, ModelCheckpoint\n",
        "\n",
        "from PIL import Image"
      ],
      "execution_count": 0,
      "outputs": []
    },
    {
      "cell_type": "code",
      "metadata": {
        "id": "9AoJYg4uStCv",
        "colab_type": "code",
        "colab": {}
      },
      "source": [
        "PATH_DATA_FOLDER = './data/'\n",
        "PATH_TRAIN_LABEL = PATH_DATA_FOLDER +  'train.txt'\n",
        "PATH_TRAIN_IMAGES_FOLDER = PATH_DATA_FOLDER +  'train_images/'\n",
        "PATH_TRAIN_IMAGES_FLOW_FOLDER = PATH_DATA_FOLDER +  'train_images_flow/'\n",
        "\n",
        "TYPE_FLOW_PRECOMPUTED = 0\n",
        "TYPE_ORIGINAL = 1\n",
        "\n",
        "BATCH_SIZE = 128\n",
        "EPOCH = 50\n",
        "\n",
        "MODEL_NAME = 'CNNModel_flow'"
      ],
      "execution_count": 0,
      "outputs": []
    },
    {
      "cell_type": "code",
      "metadata": {
        "id": "_Vb0JJ3LT3UX",
        "colab_type": "code",
        "colab": {}
      },
      "source": [
        "def prepareData(labels_path, images_path, flow_images_path, type=TYPE_FLOW_PRECOMPUTED):\n",
        "    num_train_labels = 0\n",
        "    train_labels = []\n",
        "    train_images_pair_paths = []\n",
        "\n",
        "    with open(labels_path) as txt_file:\n",
        "        labels_string = txt_file.read().split()\n",
        "\n",
        "        for i in range(4, len(labels_string)):\n",
        "            speed = float(labels_string[i])\n",
        "            train_labels.append(speed)\n",
        "\n",
        "            if type == TYPE_FLOW_PRECOMPUTED:\n",
        "                # Combine original and pre computed optical flow\n",
        "                train_images_pair_paths.append( ( os.getcwd() + images_path[1:] + str(i)+ '.jpg',  os.getcwd() + flow_images_path[1:] + str(i-3) + '.jpg',   os.getcwd() + flow_images_path[1:] + str(i-2) + '.jpg',   os.getcwd() + flow_images_path[1:] + str(i-1) + '.jpg',  os.getcwd() + flow_images_path[1:] + str(i) + '.jpg') )\n",
        "            else:\n",
        "                # Combine 2 consecutive frames and calculate optical flow\n",
        "                train_images_pair_paths.append( ( os.getcwd() + images_path[1:] + str(i-1)+ '.jpg',  os.getcwd() + images_path[1:] + str(i) + '.jpg') )\n",
        "\n",
        "    return train_images_pair_paths, train_labels"
      ],
      "execution_count": 0,
      "outputs": []
    },
    {
      "cell_type": "code",
      "metadata": {
        "id": "3IMTcIeaT5wp",
        "colab_type": "code",
        "colab": {}
      },
      "source": [
        "def generatorData(samples, batch_size=32, type=TYPE_FLOW_PRECOMPUTED):\n",
        "    num_samples = len(samples)\n",
        "    while 1: # Loop forever so the generator never terminates\n",
        "        samples = sklearn.utils.shuffle(samples)\n",
        "        for offset in range(0, num_samples, batch_size):\n",
        "            batch_samples = samples[offset:offset+batch_size]\n",
        "\n",
        "            images = []\n",
        "            angles = []\n",
        "            for imagePath, measurement in batch_samples:\n",
        "\n",
        "                combined_image = None\n",
        "                flow_image_bgr = None\n",
        "\n",
        "                if type == TYPE_FLOW_PRECOMPUTED:\n",
        "\n",
        "                    # curr_image_path, flow_image_path = imagePath\n",
        "                    # flow_image_bgr = cv2.imread(flow_image_path)\n",
        "                    curr_image_path, flow_image_path1, flow_image_path2,flow_image_path3, flow_image_path4 = imagePath\n",
        "                    flow_image_bgr = (cv2.imread(flow_image_path1) +cv2.imread(flow_image_path2) +cv2.imread(flow_image_path3) +cv2.imread(flow_image_path4) )/4\n",
        "\n",
        "                    curr_image = cv2.imread(curr_image_path)\n",
        "                    curr_image = cv2.cvtColor(curr_image, cv2.COLOR_BGR2RGB)\n",
        "\n",
        "                else:\n",
        "                    prev_image_path, curr_image_path = imagePath\n",
        "                    prev_image = cv2.imread(prev_image_path)\n",
        "                    curr_image = cv2.imread(curr_image_path)\n",
        "                    flow_image_bgr = convertToOptical(prev_image, curr_image)\n",
        "                    curr_image = cv2.cvtColor(curr_image, cv2.COLOR_BGR2RGB)\n",
        "\n",
        "\n",
        "                combined_image = 0.1*curr_image + flow_image_bgr\n",
        "                #CHOOSE IF WE WANT TO TEST WITH ONLY OPTICAL FLOW OR A COMBINATION OF VIDEO AND OPTICAL FLOW\n",
        "                combined_image = flow_image_bgr\n",
        "\n",
        "                combined_image = cv2.normalize(combined_image, None, alpha=-1, beta=1, norm_type=cv2.NORM_MINMAX, dtype=cv2.CV_32F)\n",
        "                combined_image = cv2.resize(combined_image, (0,0), fx=0.5, fy=0.5)\n",
        "\n",
        "                # im = Image.fromarray(combined_image)\n",
        "                # plt.imshow(im)\n",
        "                # plt.show()\n",
        "\n",
        "                images.append(combined_image)\n",
        "                angles.append(measurement)\n",
        "\n",
        "                # AUGMENTING DATA\n",
        "                # Flipping image, correcting measurement and  measuerement\n",
        "\n",
        "                images.append(cv2.flip(combined_image,1))\n",
        "                angles.append(measurement)\n",
        "\n",
        "            inputs = np.array(images)\n",
        "            outputs = np.array(angles)\n",
        "            yield sklearn.utils.shuffle(inputs, outputs)"
      ],
      "execution_count": 0,
      "outputs": []
    },
    {
      "cell_type": "code",
      "metadata": {
        "id": "KflxSuevT8qx",
        "colab_type": "code",
        "outputId": "428df755-3ae8-4b7f-c843-936ee41e3b06",
        "colab": {
          "base_uri": "https://localhost:8080/",
          "height": 1000
        }
      },
      "source": [
        "if __name__ == '__main__':\n",
        "\n",
        "    type_ = TYPE_FLOW_PRECOMPUTED   ## optical flow pre computed\n",
        "    # type = TYPE_ORIGINAL\n",
        "\n",
        "    train_images_pair_paths, train_labels =  prepareData(PATH_TRAIN_LABEL, PATH_TRAIN_IMAGES_FOLDER, PATH_TRAIN_IMAGES_FLOW_FOLDER, type=type_)\n",
        "\n",
        "    samples = list(zip(train_images_pair_paths, train_labels))\n",
        "    train_samples, validation_samples = train_test_split(samples, test_size=0.2)\n",
        "\n",
        "    print('Total Images: {}'.format( len(train_images_pair_paths)))\n",
        "    print('Train samples: {}'.format(len(train_samples)))\n",
        "    print('Validation samples: {}'.format(len(validation_samples)))\n",
        "\n",
        "    training_generator = generatorData(train_samples, batch_size=BATCH_SIZE, type=type_)\n",
        "    validation_generator = generatorData(validation_samples, batch_size=BATCH_SIZE, type=type_)\n",
        "\n",
        "    print('Training model...')\n",
        "\n",
        "    model = CNNModel()\n",
        "\n",
        "    callbacks = [EarlyStopping(monitor='val_loss', patience=3),\n",
        "             ModelCheckpoint(filepath='best'+MODEL_NAME+'.h5', monitor='val_loss', save_best_only=True)]\n",
        "\n",
        "    history_object = model.fit_generator(training_generator, samples_per_epoch= \\\n",
        "                     len(train_samples)//BATCH_SIZE, validation_data=validation_generator, \\\n",
        "                     validation_steps=len(validation_samples)//BATCH_SIZE, callbacks=callbacks, epochs=EPOCH, verbose=1)\n",
        "\n",
        "    print('Training model complete...')\n",
        "\n",
        "    print(history_object.history.keys())\n",
        "    print('Loss')\n",
        "    print(history_object.history['loss'])\n",
        "    print('Validation Loss')\n",
        "    print(history_object.history['val_loss'])\n",
        "\n",
        "\n",
        "    plt.figure(figsize=[10,8])\n",
        "    plt.plot(np.arange(1, len(history_object.history['loss'])+1), history_object.history['loss'],'r',linewidth=3.0)\n",
        "    plt.plot(np.arange(1, len(history_object.history['val_loss'])+1), history_object.history['val_loss'],'b',linewidth=3.0)\n",
        "    plt.legend(['Training loss', 'Validation Loss'],fontsize=18)\n",
        "    plt.xlabel('Epochs ',fontsize=16)\n",
        "    plt.ylabel('Loss',fontsize=16)\n",
        "    plt.title('Loss Curves',fontsize=16)\n",
        "    plt.show()\n",
        "    plt.savefig('graph.png')"
      ],
      "execution_count": 12,
      "outputs": [
        {
          "output_type": "stream",
          "text": [
            "Total Images: 20396\n",
            "Train samples: 16316\n",
            "Validation samples: 4080\n",
            "Training model...\n"
          ],
          "name": "stdout"
        },
        {
          "output_type": "stream",
          "text": [
            "/usr/local/lib/python3.6/dist-packages/ipykernel_launcher.py:3: UserWarning: Update your `Conv2D` call to the Keras 2 API: `Conv2D(24, (5, 5), input_shape=(240, 320,..., strides=(2, 2), kernel_initializer=\"he_normal\")`\n",
            "  This is separate from the ipykernel package so we can avoid doing imports until\n",
            "/usr/local/lib/python3.6/dist-packages/ipykernel_launcher.py:5: UserWarning: Update your `Conv2D` call to the Keras 2 API: `Conv2D(36, (5, 5), strides=(2, 2), kernel_initializer=\"he_normal\")`\n",
            "  \"\"\"\n",
            "/usr/local/lib/python3.6/dist-packages/ipykernel_launcher.py:7: UserWarning: Update your `Conv2D` call to the Keras 2 API: `Conv2D(48, (5, 5), strides=(2, 2), kernel_initializer=\"he_normal\")`\n",
            "  import sys\n",
            "/usr/local/lib/python3.6/dist-packages/ipykernel_launcher.py:10: UserWarning: Update your `Conv2D` call to the Keras 2 API: `Conv2D(64, (3, 3), strides=(1, 1), kernel_initializer=\"he_normal\")`\n",
            "  # Remove the CWD from sys.path while we load stuff.\n",
            "/usr/local/lib/python3.6/dist-packages/ipykernel_launcher.py:12: UserWarning: Update your `Conv2D` call to the Keras 2 API: `Conv2D(64, (3, 3), strides=(1, 1), padding=\"valid\", kernel_initializer=\"he_normal\")`\n",
            "  if sys.path[0] == '':\n",
            "/usr/local/lib/python3.6/dist-packages/ipykernel_launcher.py:15: UserWarning: Update your `Dense` call to the Keras 2 API: `Dense(100, kernel_initializer=\"he_normal\")`\n",
            "  from ipykernel import kernelapp as app\n",
            "/usr/local/lib/python3.6/dist-packages/ipykernel_launcher.py:17: UserWarning: Update your `Dense` call to the Keras 2 API: `Dense(50, kernel_initializer=\"he_normal\")`\n",
            "/usr/local/lib/python3.6/dist-packages/ipykernel_launcher.py:20: UserWarning: Update your `Dense` call to the Keras 2 API: `Dense(10, kernel_initializer=\"he_normal\")`\n",
            "/usr/local/lib/python3.6/dist-packages/ipykernel_launcher.py:22: UserWarning: Update your `Dense` call to the Keras 2 API: `Dense(1, kernel_initializer=\"he_normal\")`\n",
            "/usr/local/lib/python3.6/dist-packages/ipykernel_launcher.py:25: UserWarning: Update your `fit_generator` call to the Keras 2 API: `fit_generator(<generator..., validation_data=<generator..., validation_steps=31, callbacks=[<keras.ca..., epochs=50, verbose=1, steps_per_epoch=127)`\n"
          ],
          "name": "stderr"
        },
        {
          "output_type": "stream",
          "text": [
            "Epoch 1/50\n",
            "127/127 [==============================] - 695s 5s/step - loss: 38.0376 - val_loss: 13.6356\n",
            "Epoch 2/50\n",
            "127/127 [==============================] - 641s 5s/step - loss: 10.7661 - val_loss: 5.9155\n",
            "Epoch 3/50\n",
            "127/127 [==============================] - 639s 5s/step - loss: 6.0953 - val_loss: 3.9631\n",
            "Epoch 4/50\n",
            "127/127 [==============================] - 637s 5s/step - loss: 3.7755 - val_loss: 3.5543\n",
            "Epoch 5/50\n",
            "127/127 [==============================] - 641s 5s/step - loss: 2.8706 - val_loss: 2.1905\n",
            "Epoch 6/50\n",
            "127/127 [==============================] - 629s 5s/step - loss: 2.0742 - val_loss: 2.1192\n",
            "Epoch 7/50\n",
            "127/127 [==============================] - 626s 5s/step - loss: 1.7006 - val_loss: 1.7558\n",
            "Epoch 8/50\n",
            "127/127 [==============================] - 625s 5s/step - loss: 1.4229 - val_loss: 1.9032\n",
            "Epoch 9/50\n",
            "127/127 [==============================] - 635s 5s/step - loss: 1.2017 - val_loss: 1.5594\n",
            "Epoch 10/50\n",
            "127/127 [==============================] - 633s 5s/step - loss: 1.0571 - val_loss: 1.6440\n",
            "Epoch 11/50\n",
            "127/127 [==============================] - 626s 5s/step - loss: 0.9275 - val_loss: 1.1841\n",
            "Epoch 12/50\n",
            "127/127 [==============================] - 645s 5s/step - loss: 0.8096 - val_loss: 1.0482\n",
            "Epoch 13/50\n",
            "127/127 [==============================] - 638s 5s/step - loss: 0.7422 - val_loss: 0.8961\n",
            "Epoch 14/50\n",
            "127/127 [==============================] - 626s 5s/step - loss: 0.6957 - val_loss: 0.9829\n",
            "Epoch 15/50\n",
            "127/127 [==============================] - 623s 5s/step - loss: 0.6405 - val_loss: 0.7521\n",
            "Epoch 16/50\n",
            "127/127 [==============================] - 622s 5s/step - loss: 0.5985 - val_loss: 0.7182\n",
            "Epoch 17/50\n",
            "127/127 [==============================] - 624s 5s/step - loss: 0.5329 - val_loss: 0.8058\n",
            "Epoch 18/50\n",
            "127/127 [==============================] - 624s 5s/step - loss: 0.5235 - val_loss: 1.0816\n",
            "Epoch 19/50\n",
            "127/127 [==============================] - 619s 5s/step - loss: 0.4755 - val_loss: 0.7938\n",
            "Training model complete...\n",
            "dict_keys(['val_loss', 'loss'])\n",
            "Loss\n",
            "[38.03755649056021, 10.757749962576943, 6.088278375497889, 3.7754549978985326, 2.8723883431488595, 2.0744082589546546, 1.700787526282199, 1.4236944640805052, 1.2008444784540053, 1.05506608322399, 0.9278502345733181, 0.8097525646222913, 0.7419955680215391, 0.6963846996032605, 0.6411081247780981, 0.5982119000662042, 0.5329234050266943, 0.524122227363478, 0.4754501078595401]\n",
            "Validation Loss\n",
            "[13.63559627532959, 5.915457725524902, 3.96313214302063, 3.5542502403259277, 2.190467357635498, 2.1191937923431396, 1.7557817697525024, 1.903185486793518, 1.559415340423584, 1.6439820528030396, 1.1840654611587524, 1.0481822490692139, 0.8960559964179993, 0.9829134941101074, 0.7520714402198792, 0.7182418704032898, 0.8058481216430664, 1.0815685987472534, 0.7938246130943298]\n"
          ],
          "name": "stdout"
        },
        {
          "output_type": "display_data",
          "data": {
            "image/png": "[encoded data removed]",
            "text/plain": [
              "<Figure size 720x576 with 1 Axes>"
            ]
          },
          "metadata": {
            "tags": [],
            "needs_background": "light"
          }
        },
        {
          "output_type": "display_data",
          "data": {
            "text/plain": [
              "<Figure size 432x288 with 0 Axes>"
            ]
          },
          "metadata": {
            "tags": []
          }
        }
      ]
    },
    {
      "cell_type": "markdown",
      "metadata": {
        "id": "ErOv3S596Ok7",
        "colab_type": "text"
      },
      "source": [
        "Testing the model"
      ]
    },
    {
      "cell_type": "code",
      "metadata": {
        "id": "6pM77aPaLmec",
        "colab_type": "code",
        "colab": {}
      },
      "source": [
        "import cv2\n",
        "import sys\n",
        "import time\n",
        "import numpy as np\n",
        "import matplotlib.pyplot as plt"
      ],
      "execution_count": 0,
      "outputs": []
    },
    {
      "cell_type": "code",
      "metadata": {
        "id": "W81X7tNxT_Ts",
        "colab_type": "code",
        "colab": {}
      },
      "source": [
        "PATH_DATA_FOLDER = './data/'\n",
        "PATH_TEST_LABEL = PATH_DATA_FOLDER +  'test.txt'\n",
        "PATH_TEST_VIDEO = PATH_DATA_FOLDER + 'test.mp4'\n",
        "PATH_TEST_VIDEO_OUTPUT = PATH_DATA_FOLDER + 'test_output.mp4'\n",
        "PATH_COMBINED_TEST_VIDEO_OUTPUT = PATH_DATA_FOLDER + 'combined_test_output.mp4'\n",
        "PATH_TEST_IMAGES_FOLDER = PATH_DATA_FOLDER +  'test_images/'\n",
        "PATH_TEST_IMAGES_FLOW_FOLDER = PATH_DATA_FOLDER +  'test_images_flow/'\n",
        "\n",
        "TYPE_FLOW_PRECOMPUTED = 0\n",
        "TYPE_ORIGINAL = 1\n",
        "\n",
        "\n",
        "MODEL_NAME = 'CNNModel_flow'\n",
        "PRE_TRAINED_WEIGHTS = './best'+MODEL_NAME+'.h5'"
      ],
      "execution_count": 0,
      "outputs": []
    },
    {
      "cell_type": "code",
      "metadata": {
        "id": "Hb_c6hMy6YLf",
        "colab_type": "code",
        "colab": {}
      },
      "source": [
        "def predict_from_video(video_input_path, original_video_output_path, combined_video_output_path):\n",
        "    predicted_labels = []\n",
        "\n",
        "    video_reader = cv2.VideoCapture(video_input_path)\n",
        "\n",
        "    num_frames = video_reader.get(cv2.CAP_PROP_FRAME_COUNT)\n",
        "    frame_size = (int(video_reader.get(cv2.CAP_PROP_FRAME_WIDTH)), int(video_reader.get(cv2.CAP_PROP_FRAME_HEIGHT)))\n",
        "    fps = int(video_reader.get(cv2.CAP_PROP_FPS))\n",
        "\n",
        "    fourcc = cv2.VideoWriter_fourcc(*'mp4v')\n",
        "    #fourcc = 0x00000021\n",
        "    video_writer = cv2.VideoWriter(original_video_output_path, fourcc, fps, frame_size)\n",
        "    video_writer_combined = cv2.VideoWriter(combined_video_output_path, fourcc, fps, frame_size)\n",
        "\n",
        "    t1 = time.time()\n",
        "    ret, prev_frame = video_reader.read()\n",
        "    hsv = np.zeros_like(prev_frame)\n",
        "\n",
        "    video_writer.write(prev_frame)\n",
        "\n",
        "    predicted_labels.append(0.0)\n",
        "\n",
        "    flow_image_bgr_prev1 =  np.zeros_like(prev_frame)\n",
        "    flow_image_bgr_prev2 =  np.zeros_like(prev_frame)\n",
        "    flow_image_bgr_prev3 =  np.zeros_like(prev_frame)\n",
        "    flow_image_bgr_prev4 =  np.zeros_like(prev_frame)\n",
        "\n",
        "\n",
        "    font                   = cv2.FONT_HERSHEY_SIMPLEX\n",
        "    place = (50,50)\n",
        "    fontScale              = 1\n",
        "    fontColor              = (255,255,255)\n",
        "    lineType               = 2\n",
        "\n",
        "    count =0\n",
        "    while True:\n",
        "        ret, next_frame = video_reader.read()\n",
        "        if ret is False:\n",
        "            break\n",
        "\n",
        "        flow_image_bgr_next = convertToOptical(prev_frame, next_frame)\n",
        "        flow_image_bgr = (flow_image_bgr_prev1 + flow_image_bgr_prev2 +flow_image_bgr_prev3 +flow_image_bgr_prev4 + flow_image_bgr_next)/4\n",
        "\n",
        "        curr_image = cv2.cvtColor(next_frame, cv2.COLOR_BGR2RGB)\n",
        "\n",
        "        combined_image_save = 0.1*curr_image + flow_image_bgr\n",
        "\n",
        "        #CHOOSE IF WE WANT TO TEST WITH ONLY OPTICAL FLOW OR A COMBINATION OF VIDEO AND OPTICAL FLOW\n",
        "        combined_image = flow_image_bgr\n",
        "        # combined_image = combined_image_save\n",
        "\n",
        "        combined_image_test = cv2.normalize(combined_image, None, alpha=-1, beta=1, norm_type=cv2.NORM_MINMAX, dtype=cv2.CV_32F)\n",
        "\n",
        "        # plt.imshow(combined_image)\n",
        "        # plt.show()\n",
        "\n",
        "        #CHOOSE IF WE WANT TO TEST WITH ONLY OPTICAL FLOW OR A COMBINATION OF VIDEO AND OPTICAL FLOW\n",
        "        # combined_image_test = cv2.resize(combined_image, (0,0), fx=0.5, fy=0.5)\n",
        "        combined_image_test = cv2.resize(combined_image_test, (0,0), fx=0.5, fy=0.5)\n",
        "\n",
        "        combined_image_test = combined_image_test.reshape(1, combined_image_test.shape[0], combined_image_test.shape[1], combined_image_test.shape[2])\n",
        "\n",
        "        prediction = model.predict(combined_image_test)\n",
        "\n",
        "        predicted_labels.append(prediction[0][0])\n",
        "\n",
        "        # print(combined_image.shape, np.mean(flow_image_bgr), prediction[0][0])\n",
        "\n",
        "        cv2.putText(next_frame, str(prediction[0][0]), place, font, fontScale,fontColor,lineType)\n",
        "        cv2.putText(combined_image_save, str(prediction[0][0]), place, font, fontScale,fontColor,lineType)\n",
        "\n",
        "        video_writer.write(next_frame)\n",
        "        video_writer_combined.write(combined_image_save.astype('uint8'))\n",
        "\n",
        "        prev_frame = next_frame\n",
        "        flow_image_bgr_prev4 = flow_image_bgr_prev3\n",
        "        flow_image_bgr_prev3 = flow_image_bgr_prev2\n",
        "        flow_image_bgr_prev2 = flow_image_bgr_prev1\n",
        "        flow_image_bgr_prev1 = flow_image_bgr_next\n",
        "\n",
        "        count +=1\n",
        "        sys.stdout.write('\\rprocessed frames: %d of %d' % (count, num_frames))\n",
        "\n",
        "\n",
        "    t2 = time.time()\n",
        "    video_reader.release()\n",
        "    video_writer.release()\n",
        "    video_writer_combined.release()\n",
        "    print(' Prediction completed !')\n",
        "    print(' Time Taken:', (t2 - t1), 'seconds')\n",
        "\n",
        "    predicted_labels[0] = predicted_labels[1]\n",
        "    return predicted_labels"
      ],
      "execution_count": 0,
      "outputs": []
    },
    {
      "cell_type": "code",
      "metadata": {
        "id": "uqUDDHlW6b9Y",
        "colab_type": "code",
        "colab": {
          "base_uri": "https://localhost:8080/",
          "height": 350
        },
        "outputId": "4acc8521-51f4-4578-d48b-5f7c36b57a0d"
      },
      "source": [
        "if __name__ == '__main__':\n",
        "\n",
        "    model = CNNModel()\n",
        "    model.load_weights(PRE_TRAINED_WEIGHTS)\n",
        "\n",
        "    print('Testing model...')\n",
        "    predicted_labels = predict_from_video(PATH_TEST_VIDEO,  PATH_TEST_VIDEO_OUTPUT, PATH_COMBINED_TEST_VIDEO_OUTPUT)\n",
        "\n",
        "    with open(PATH_TEST_LABEL, mode=\"w\") as outfile:\n",
        "        for label in predicted_labels:\n",
        "            outfile.write(\"%s\\n\" % str(label))"
      ],
      "execution_count": 16,
      "outputs": [
        {
          "output_type": "stream",
          "text": [
            "/usr/local/lib/python3.6/dist-packages/ipykernel_launcher.py:3: UserWarning: Update your `Conv2D` call to the Keras 2 API: `Conv2D(24, (5, 5), input_shape=(240, 320,..., strides=(2, 2), kernel_initializer=\"he_normal\")`\n",
            "  This is separate from the ipykernel package so we can avoid doing imports until\n",
            "/usr/local/lib/python3.6/dist-packages/ipykernel_launcher.py:5: UserWarning: Update your `Conv2D` call to the Keras 2 API: `Conv2D(36, (5, 5), strides=(2, 2), kernel_initializer=\"he_normal\")`\n",
            "  \"\"\"\n",
            "/usr/local/lib/python3.6/dist-packages/ipykernel_launcher.py:7: UserWarning: Update your `Conv2D` call to the Keras 2 API: `Conv2D(48, (5, 5), strides=(2, 2), kernel_initializer=\"he_normal\")`\n",
            "  import sys\n",
            "/usr/local/lib/python3.6/dist-packages/ipykernel_launcher.py:10: UserWarning: Update your `Conv2D` call to the Keras 2 API: `Conv2D(64, (3, 3), strides=(1, 1), kernel_initializer=\"he_normal\")`\n",
            "  # Remove the CWD from sys.path while we load stuff.\n",
            "/usr/local/lib/python3.6/dist-packages/ipykernel_launcher.py:12: UserWarning: Update your `Conv2D` call to the Keras 2 API: `Conv2D(64, (3, 3), strides=(1, 1), padding=\"valid\", kernel_initializer=\"he_normal\")`\n",
            "  if sys.path[0] == '':\n",
            "/usr/local/lib/python3.6/dist-packages/ipykernel_launcher.py:15: UserWarning: Update your `Dense` call to the Keras 2 API: `Dense(100, kernel_initializer=\"he_normal\")`\n",
            "  from ipykernel import kernelapp as app\n",
            "/usr/local/lib/python3.6/dist-packages/ipykernel_launcher.py:17: UserWarning: Update your `Dense` call to the Keras 2 API: `Dense(50, kernel_initializer=\"he_normal\")`\n",
            "/usr/local/lib/python3.6/dist-packages/ipykernel_launcher.py:20: UserWarning: Update your `Dense` call to the Keras 2 API: `Dense(10, kernel_initializer=\"he_normal\")`\n",
            "/usr/local/lib/python3.6/dist-packages/ipykernel_launcher.py:22: UserWarning: Update your `Dense` call to the Keras 2 API: `Dense(1, kernel_initializer=\"he_normal\")`\n"
          ],
          "name": "stderr"
        },
        {
          "output_type": "stream",
          "text": [
            "Testing model...\n",
            "processed frames: 10797 of 10798 Prediction completed !\n",
            " Time Taken: 1482.9479517936707 seconds\n"
          ],
          "name": "stdout"
        }
      ]
    },
    {
      "cell_type": "code",
      "metadata": {
        "id": "Ip6O8blD7L9b",
        "colab_type": "code",
        "colab": {}
      },
      "source": [
        ""
      ],
      "execution_count": 0,
      "outputs": []
    }
  ]
}