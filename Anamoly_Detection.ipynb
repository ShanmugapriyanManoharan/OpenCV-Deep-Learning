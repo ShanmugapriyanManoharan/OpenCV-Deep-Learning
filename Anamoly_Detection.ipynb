{
  "nbformat": 4,
  "nbformat_minor": 0,
  "metadata": {
    "colab": {
      "name": "Anamoly_Detection.ipynb",
      "provenance": [],
      "authorship_tag": "ABX9TyMh5+trXmPAXza8A+ktLqIe",
      "include_colab_link": true
    },
    "kernelspec": {
      "name": "python3",
      "display_name": "Python 3"
    },
    "accelerator": "GPU"
  },
  "cells": [
    {
      "cell_type": "markdown",
      "metadata": {
        "id": "view-in-github",
        "colab_type": "text"
      },
      "source": [
        "<a href=\"https://colab.research.google.com/github/ShanmugapriyanManoharan/OpenCV-Deep-Learning/blob/master/Anamoly_Detection.ipynb\" target=\"_parent\"><img src=\"https://colab.research.google.com/assets/colab-badge.svg\" alt=\"Open In Colab\"/></a>"
      ]
    },
    {
      "cell_type": "code",
      "metadata": {
        "id": "GIVKO4cNnwhv",
        "colab_type": "code",
        "colab": {}
      },
      "source": [
        "from tensorflow.keras.layers import BatchNormalization\n",
        "from tensorflow.keras.layers import Conv2D\n",
        "from tensorflow.keras.layers import Conv2DTranspose\n",
        "from tensorflow.keras.layers import LeakyReLU\n",
        "from tensorflow.keras.layers import Activation\n",
        "from tensorflow.keras.layers import Flatten\n",
        "from tensorflow.keras.layers import Dense\n",
        "from tensorflow.keras.layers import Reshape\n",
        "from tensorflow.keras.layers import Input\n",
        "from tensorflow.keras.models import Model\n",
        "from tensorflow.keras import backend as K\n",
        "from tensorflow.keras.optimizers import Adam\n",
        "from tensorflow.keras.datasets import mnist\n",
        "from sklearn.model_selection import train_test_split\n",
        "import numpy as np\n",
        "import matplotlib\n",
        "matplotlib.use(\"Agg\")\n",
        "import matplotlib.pyplot as plt\n",
        "import cv2\n",
        "%matplotlib inline\n",
        "from google.colab.patches import cv2_imshow\n",
        "import random\n",
        "import pickle"
      ],
      "execution_count": 0,
      "outputs": []
    },
    {
      "cell_type": "markdown",
      "metadata": {
        "id": "uf1cs-q-turn",
        "colab_type": "text"
      },
      "source": [
        "# *Convolutional Autoencoder*"
      ]
    },
    {
      "cell_type": "code",
      "metadata": {
        "id": "2xhm2AHWn1A7",
        "colab_type": "code",
        "colab": {}
      },
      "source": [
        "class ConvAutoencoder:\n",
        "\t@staticmethod\n",
        "\tdef build(width, height, depth, filters=(32, 64), latentDim=16):\n",
        "\t\tinputShape = (height, width, depth)\n",
        "\t\tchanDim = -1\n",
        "\t\tinputs = Input(shape=inputShape)\n",
        "\t\tx = inputs\n",
        "\t\t\n",
        "\t\t# Loop through the filter tuple\n",
        "\t\tfor f in filters:\n",
        "\t\t\t# apply a CONV => RELU => BN operation\n",
        "\t\t\tx = Conv2D(f, (3, 3), strides=2, padding=\"same\")(x)\n",
        "\t\t\tx = LeakyReLU(alpha=0.2)(x)\n",
        "\t\t\tx = BatchNormalization(axis=chanDim)(x)\n",
        "\t\t\t\n",
        "\t\t# Flatten the network and then construct our latent vector\n",
        "\t\tvolumeSize = K.int_shape(x)\n",
        "\t\tx = Flatten()(x)\n",
        "\t\tlatent = Dense(latentDim)(x)\n",
        "\t\t\n",
        "\t\t# Encoder Model\n",
        "\t\tencoder = Model(inputs, latent, name=\"encoder\")\n",
        "\t\t\n",
        "\t\t# Latent-Space Representation\n",
        "\t\tlatentInputs = Input(shape=(latentDim,))\n",
        "\t\tx = Dense(np.prod(volumeSize[1:]))(latentInputs)\n",
        "\t\tx = Reshape((volumeSize[1], volumeSize[2], volumeSize[3]))(x)\n",
        "\t\t\n",
        "\t\t# Loop through the filter tuple\n",
        "\t\tfor f in filters[::-1]:\n",
        "\t\t\t# apply a CONV_TRANSPOSE => RELU => BN operation\n",
        "\t\t\tx = Conv2DTranspose(f, (3, 3), strides=2, padding=\"same\")(x)\n",
        "\t\t\tx = LeakyReLU(alpha=0.2)(x)\n",
        "\t\t\tx = BatchNormalization(axis=chanDim)(x)\n",
        "\t\t\t\n",
        "\t\t# Apply a single CONV_TRANSPOSE layer used to recover the original depth of the image\n",
        "\t\tx = Conv2DTranspose(depth, (3, 3), padding=\"same\")(x)\n",
        "\t\toutputs = Activation(\"sigmoid\")(x)\n",
        "\t\t\n",
        "\t\t# Decoder model\n",
        "\t\tdecoder = Model(latentInputs, outputs, name=\"decoder\")\n",
        "\t\t\n",
        "\t\t# Autoencoder = encoder + decoder\n",
        "\t\tautoencoder = Model(inputs, decoder(encoder(inputs)), name=\"autoencoder\")\n",
        "\t\t\n",
        "\t\treturn (encoder, decoder, autoencoder)"
      ],
      "execution_count": 0,
      "outputs": []
    },
    {
      "cell_type": "markdown",
      "metadata": {
        "id": "vZOFvxlbt5GM",
        "colab_type": "text"
      },
      "source": [
        "# **Build Unsupervised Dataset Function**"
      ]
    },
    {
      "cell_type": "code",
      "metadata": {
        "id": "TwCKKUssoTT_",
        "colab_type": "code",
        "colab": {}
      },
      "source": [
        "def build_unsupervised_dataset(data, labels, validLabel=1, anomalyLabel=3, contam=0.01, seed=42):\n",
        "\tvalidIdxs = np.where(labels == validLabel)[0] # Index of true labels\n",
        "\tanomalyIdxs = np.where(labels == anomalyLabel)[0] # Index of anamoly labels\n",
        "\t\n",
        "\trandom.shuffle(validIdxs)\n",
        "\trandom.shuffle(anomalyIdxs)\n",
        "\t\n",
        "\t# Get the total number of anamoly data points\n",
        "\ti = int(len(validIdxs) * contam)\n",
        "\tanomalyIdxs = anomalyIdxs[:i]\n",
        "\t\n",
        "\tvalidImages = data[validIdxs]\n",
        "\tanomalyImages = data[anomalyIdxs]\n",
        "\t\n",
        "\t# Stacking the images vertically\n",
        "\timages = np.vstack([validImages, anomalyImages])\n",
        "\tnp.random.seed(seed)\n",
        "\tnp.random.shuffle(images)\n",
        "\t\n",
        "\treturn images"
      ],
      "execution_count": 0,
      "outputs": []
    },
    {
      "cell_type": "markdown",
      "metadata": {
        "id": "nXZA3sQSuB1d",
        "colab_type": "text"
      },
      "source": [
        "# **Visualization**"
      ]
    },
    {
      "cell_type": "code",
      "metadata": {
        "id": "98y3DpkEpHpa",
        "colab_type": "code",
        "colab": {}
      },
      "source": [
        "def visualize_predictions(decoded, gt, samples=10):\n",
        "\toutputs = None\n",
        "\t\n",
        "\t# Loop over the output samples\n",
        "\tfor i in range(0, samples):\n",
        "\t\toriginal = (gt[i] * 255).astype(\"uint8\")\n",
        "\t\treconstructed = (decoded[i] * 255).astype(\"uint8\")\n",
        "\t\t\n",
        "\t\t# Stack the images horizontally\n",
        "\t\toutput = np.hstack([original, reconstructed])\n",
        "\t\t\n",
        "\t\tif outputs is None:\n",
        "\t\t\toutputs = output\n",
        "\t\telse:\n",
        "\t\t\toutputs = np.vstack([outputs, output]) # Vertical stacking3\n",
        "\t\t\t\n",
        "\treturn outputs"
      ],
      "execution_count": 0,
      "outputs": []
    },
    {
      "cell_type": "markdown",
      "metadata": {
        "id": "wkwyy4mLuHaV",
        "colab_type": "text"
      },
      "source": [
        "# **Training**"
      ]
    },
    {
      "cell_type": "code",
      "metadata": {
        "id": "4q2RTKrCqqK5",
        "colab_type": "code",
        "colab": {}
      },
      "source": [
        "EPOCHS = 25\n",
        "LR = 1e-3 # Learning Rate\n",
        "BS = 32 # Batch Size"
      ],
      "execution_count": 0,
      "outputs": []
    },
    {
      "cell_type": "code",
      "metadata": {
        "id": "03CrdVj5rDek",
        "colab_type": "code",
        "colab": {}
      },
      "source": [
        "# Load the MNIST Dataset\n",
        "((trainX, trainY), (testX, testY)) = mnist.load_data()\n",
        "\n",
        "# Building Unsupervised Dataset\n",
        "images = build_unsupervised_dataset(trainX, trainY, validLabel=1, anomalyLabel=3, contam=0.01)\n",
        "\n",
        "# Adding the channel dimension to every image\n",
        "images = np.expand_dims(images, axis=-1)\n",
        "\n",
        "# Pixel Intensity limited to range [0,1]\n",
        "images = images.astype(\"float32\") / 255.0\n",
        "\n",
        "(trainX, testX) = train_test_split(images, test_size=0.2, random_state=42)"
      ],
      "execution_count": 0,
      "outputs": []
    },
    {
      "cell_type": "code",
      "metadata": {
        "id": "pOWlpWmOrzPA",
        "colab_type": "code",
        "colab": {}
      },
      "source": [
        "# Convolutional Autoencoder\n",
        "(encoder, decoder, autoencoder) = ConvAutoencoder.build(28, 28, 1)\n",
        "opt = Adam(lr=INIT_LR, decay=LR / EPOCHS)\n",
        "autoencoder.compile(loss=\"mse\", optimizer=opt)"
      ],
      "execution_count": 0,
      "outputs": []
    },
    {
      "cell_type": "code",
      "metadata": {
        "id": "WnKzN_rar7hI",
        "colab_type": "code",
        "colab": {
          "base_uri": "https://localhost:8080/",
          "height": 867
        },
        "outputId": "28ccf46f-beba-4ce6-e06b-cbc7761fd680"
      },
      "source": [
        "# Training\n",
        "A = autoencoder.fit(\n",
        "\ttrainX, trainX,\n",
        "\tvalidation_data=(testX, testX),\n",
        "\tepochs=EPOCHS,\n",
        "\tbatch_size=BS)"
      ],
      "execution_count": 12,
      "outputs": [
        {
          "output_type": "stream",
          "text": [
            "Epoch 1/25\n",
            "171/171 [==============================] - 1s 6ms/step - loss: 0.0365 - val_loss: 0.0403\n",
            "Epoch 2/25\n",
            "171/171 [==============================] - 1s 5ms/step - loss: 0.0107 - val_loss: 0.0250\n",
            "Epoch 3/25\n",
            "171/171 [==============================] - 1s 5ms/step - loss: 0.0043 - val_loss: 0.0078\n",
            "Epoch 4/25\n",
            "171/171 [==============================] - 1s 5ms/step - loss: 0.0033 - val_loss: 0.0032\n",
            "Epoch 5/25\n",
            "171/171 [==============================] - 1s 5ms/step - loss: 0.0029 - val_loss: 0.0032\n",
            "Epoch 6/25\n",
            "171/171 [==============================] - 1s 5ms/step - loss: 0.0027 - val_loss: 0.0027\n",
            "Epoch 7/25\n",
            "171/171 [==============================] - 1s 5ms/step - loss: 0.0026 - val_loss: 0.0028\n",
            "Epoch 8/25\n",
            "171/171 [==============================] - 1s 5ms/step - loss: 0.0024 - val_loss: 0.0026\n",
            "Epoch 9/25\n",
            "171/171 [==============================] - 1s 5ms/step - loss: 0.0022 - val_loss: 0.0024\n",
            "Epoch 10/25\n",
            "171/171 [==============================] - 1s 5ms/step - loss: 0.0022 - val_loss: 0.0023\n",
            "Epoch 11/25\n",
            "171/171 [==============================] - 1s 5ms/step - loss: 0.0021 - val_loss: 0.0022\n",
            "Epoch 12/25\n",
            "171/171 [==============================] - 1s 5ms/step - loss: 0.0020 - val_loss: 0.0024\n",
            "Epoch 13/25\n",
            "171/171 [==============================] - 1s 5ms/step - loss: 0.0020 - val_loss: 0.0023\n",
            "Epoch 14/25\n",
            "171/171 [==============================] - 1s 5ms/step - loss: 0.0019 - val_loss: 0.0022\n",
            "Epoch 15/25\n",
            "171/171 [==============================] - 1s 5ms/step - loss: 0.0019 - val_loss: 0.0021\n",
            "Epoch 16/25\n",
            "171/171 [==============================] - 1s 5ms/step - loss: 0.0018 - val_loss: 0.0021\n",
            "Epoch 17/25\n",
            "171/171 [==============================] - 1s 5ms/step - loss: 0.0017 - val_loss: 0.0021\n",
            "Epoch 18/25\n",
            "171/171 [==============================] - 1s 5ms/step - loss: 0.0017 - val_loss: 0.0021\n",
            "Epoch 19/25\n",
            "171/171 [==============================] - 1s 5ms/step - loss: 0.0016 - val_loss: 0.0021\n",
            "Epoch 20/25\n",
            "171/171 [==============================] - 1s 5ms/step - loss: 0.0017 - val_loss: 0.0021\n",
            "Epoch 21/25\n",
            "171/171 [==============================] - 1s 5ms/step - loss: 0.0016 - val_loss: 0.0021\n",
            "Epoch 22/25\n",
            "171/171 [==============================] - 1s 5ms/step - loss: 0.0016 - val_loss: 0.0020\n",
            "Epoch 23/25\n",
            "171/171 [==============================] - 1s 5ms/step - loss: 0.0016 - val_loss: 0.0020\n",
            "Epoch 24/25\n",
            "171/171 [==============================] - 1s 5ms/step - loss: 0.0016 - val_loss: 0.0021\n",
            "Epoch 25/25\n",
            "171/171 [==============================] - 1s 5ms/step - loss: 0.0015 - val_loss: 0.0022\n"
          ],
          "name": "stdout"
        }
      ]
    },
    {
      "cell_type": "code",
      "metadata": {
        "id": "HACYsvcdr_rK",
        "colab_type": "code",
        "colab": {
          "base_uri": "https://localhost:8080/",
          "height": 297
        },
        "outputId": "f2a76adb-d58d-4920-d66e-ac1152753b7d"
      },
      "source": [
        "# Prediction\n",
        "decoded = autoencoder.predict(testX)\n",
        "vis = visualize_predictions(decoded, testX)\n",
        "cv2_imshow(vis)"
      ],
      "execution_count": 16,
      "outputs": [
        {
          "output_type": "display_data",
          "data": {
            "image/png": "[encoded data removed]",
            "text/plain": [
              "<PIL.Image.Image image mode=RGB size=56x280 at 0x7FAFBC6ED7B8>"
            ]
          },
          "metadata": {
            "tags": []
          }
        }
      ]
    },
    {
      "cell_type": "code",
      "metadata": {
        "id": "_2LfVCkAsM3F",
        "colab_type": "code",
        "colab": {
          "base_uri": "https://localhost:8080/",
          "height": 299
        },
        "outputId": "55e67261-5941-455b-c5a1-759a9089a05c"
      },
      "source": [
        "# Plotting Loss & Accuracy, saving the training history\n",
        "N = np.arange(0, EPOCHS)\n",
        "plt.style.use(\"ggplot\")\n",
        "plt.figure()\n",
        "plt.plot(N, A.history[\"loss\"], label=\"train_loss\")\n",
        "plt.plot(N, A.history[\"val_loss\"], label=\"val_loss\")\n",
        "plt.title(\"Training Loss\")\n",
        "plt.xlabel(\"Epoch #\")\n",
        "plt.ylabel(\"Loss\")\n",
        "plt.legend(loc=\"upper right\")\n",
        "plt.show()"
      ],
      "execution_count": 19,
      "outputs": [
        {
          "output_type": "display_data",
          "data": {
            "image/png": "[encoded data removed]",
            "text/plain": [
              "<Figure size 432x288 with 1 Axes>"
            ]
          },
          "metadata": {
            "tags": []
          }
        }
      ]
    },
    {
      "cell_type": "markdown",
      "metadata": {
        "id": "MjpyQCizuM-2",
        "colab_type": "text"
      },
      "source": [
        "# **Dumping the Images using pickle**"
      ]
    },
    {
      "cell_type": "code",
      "metadata": {
        "id": "p8jzJakesghz",
        "colab_type": "code",
        "colab": {}
      },
      "source": [
        "# Writing the pickle image\n",
        "f = open('anamoly_detection_image.pkl', \"wb\")\n",
        "f.write(pickle.dumps(images))\n",
        "f.close()"
      ],
      "execution_count": 0,
      "outputs": []
    },
    {
      "cell_type": "markdown",
      "metadata": {
        "id": "mAHdx6WAuVj0",
        "colab_type": "text"
      },
      "source": [
        "# **Saving the Model**"
      ]
    },
    {
      "cell_type": "code",
      "metadata": {
        "id": "cTXR7gbntGHD",
        "colab_type": "code",
        "colab": {}
      },
      "source": [
        "# Saving the Autoencoder model\n",
        "autoencoder.save(\"convolutional_autoencoder.model\", save_format=\"h5\")"
      ],
      "execution_count": 0,
      "outputs": []
    },
    {
      "cell_type": "markdown",
      "metadata": {
        "id": "GjCpnIzkuY4m",
        "colab_type": "text"
      },
      "source": [
        "# **Finding Anamoly**"
      ]
    },
    {
      "cell_type": "code",
      "metadata": {
        "id": "ugCm4b-ntTRo",
        "colab_type": "code",
        "colab": {}
      },
      "source": [
        "from tensorflow.keras.models import load_model"
      ],
      "execution_count": 0,
      "outputs": []
    },
    {
      "cell_type": "code",
      "metadata": {
        "id": "laYmsjU_uc9E",
        "colab_type": "code",
        "colab": {}
      },
      "source": [
        "# Load the model and images\n",
        "autoencoder = load_model('convolutional_autoencoder.model')\n",
        "images = pickle.loads(open('anamoly_detection_image.pkl', \"rb\").read())"
      ],
      "execution_count": 0,
      "outputs": []
    },
    {
      "cell_type": "code",
      "metadata": {
        "id": "3JS-YUp9unrC",
        "colab_type": "code",
        "colab": {}
      },
      "source": [
        "# Make predictions\n",
        "decoded = autoencoder.predict(images)\n",
        "errors = []"
      ],
      "execution_count": 0,
      "outputs": []
    },
    {
      "cell_type": "code",
      "metadata": {
        "id": "blvJQDmEvC3A",
        "colab_type": "code",
        "colab": {}
      },
      "source": [
        "# Loop over the images\n",
        "for (image, reconstructed) in zip(images, decoded):\n",
        "  # Determine the MSE and append with the errors list\n",
        "  mse = np.mean((image - reconstructed) ** 2)\n",
        "  errors.append(mse)"
      ],
      "execution_count": 0,
      "outputs": []
    },
    {
      "cell_type": "code",
      "metadata": {
        "id": "qJjQhSRKvZ0a",
        "colab_type": "code",
        "colab": {}
      },
      "source": [
        "thresh = np.quantile(errors, 0.999)\n",
        "idxs = np.where(np.array(errors) >= thresh)[0] # Considered as outliers"
      ],
      "execution_count": 0,
      "outputs": []
    },
    {
      "cell_type": "code",
      "metadata": {
        "id": "aH7JnoU5vqZ9",
        "colab_type": "code",
        "colab": {
          "base_uri": "https://localhost:8080/",
          "height": 51
        },
        "outputId": "1d6dfd66-d858-44a6-ba19-1352803ad280"
      },
      "source": [
        "print(\"MSE threshold: {}\".format(thresh))\n",
        "print(\"{} outliers found\".format(len(idxs)))"
      ],
      "execution_count": 35,
      "outputs": [
        {
          "output_type": "stream",
          "text": [
            "MSE threshold: 0.026991694167256365\n",
            "7 outliers found\n"
          ],
          "name": "stdout"
        }
      ]
    },
    {
      "cell_type": "code",
      "metadata": {
        "id": "FsDCLv2evtoT",
        "colab_type": "code",
        "colab": {}
      },
      "source": [
        "outputs = None\n",
        "\n",
        "# Looping over the images with high MSE\n",
        "for i in idxs:\n",
        "  original = (images[i] * 255).astype(\"uint8\")\n",
        "  reconstructed = (decoded[i] * 255).astype(\"uint8\")\n",
        "\n",
        "  output = np.hstack([original, reconstructed]) # Horizontal stacking of images\n",
        "\n",
        "  if outputs is None:\n",
        "    outputs = output\n",
        "  else:\n",
        "    outputs = np.vstack([outputs, output])"
      ],
      "execution_count": 0,
      "outputs": []
    },
    {
      "cell_type": "code",
      "metadata": {
        "id": "OHNZdBGIwNit",
        "colab_type": "code",
        "colab": {
          "base_uri": "https://localhost:8080/",
          "height": 213
        },
        "outputId": "23c44b8d-ef23-4c42-b911-68a1b2d5db7a"
      },
      "source": [
        "cv2_imshow(outputs)"
      ],
      "execution_count": 38,
      "outputs": [
        {
          "output_type": "display_data",
          "data": {
            "image/png": "[encoded data removed]",
            "text/plain": [
              "<PIL.Image.Image image mode=RGB size=56x196 at 0x7FAF9D216128>"
            ]
          },
          "metadata": {
            "tags": []
          }
        }
      ]
    },
    {
      "cell_type": "markdown",
      "metadata": {
        "id": "KD4Y0Y_swdZn",
        "colab_type": "text"
      },
      "source": [
        "***From the above images, we can find the anamoly/outlier '3' and even can find some '1' are incorrectly labelled as '3'. So some '1' also shown as outliers.***"
      ]
    }
  ]
}