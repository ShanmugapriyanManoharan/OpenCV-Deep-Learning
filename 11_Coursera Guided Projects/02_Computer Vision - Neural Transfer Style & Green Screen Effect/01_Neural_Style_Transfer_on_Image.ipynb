{
 "cells": [
  {
   "cell_type": "code",
   "execution_count": 2,
   "metadata": {},
   "outputs": [
    {
     "ename": "AttributeError",
     "evalue": "module 'cv2.cv2' has no attribute 'destoryAllWindows'",
     "output_type": "error",
     "traceback": [
      "\u001b[1;31m---------------------------------------------------------------------------\u001b[0m",
      "\u001b[1;31mAttributeError\u001b[0m                            Traceback (most recent call last)",
      "\u001b[1;32m<ipython-input-2-b69a6e6173dc>\u001b[0m in \u001b[0;36m<module>\u001b[1;34m\u001b[0m\n\u001b[0;32m     74\u001b[0m \u001b[1;31m# Destroy All Windows\u001b[0m\u001b[1;33m\u001b[0m\u001b[1;33m\u001b[0m\u001b[1;33m\u001b[0m\u001b[0m\n\u001b[0;32m     75\u001b[0m \u001b[1;33m\u001b[0m\u001b[0m\n\u001b[1;32m---> 76\u001b[1;33m \u001b[0mcv2\u001b[0m\u001b[1;33m.\u001b[0m\u001b[0mdestoryAllWindows\u001b[0m\u001b[1;33m(\u001b[0m\u001b[1;33m)\u001b[0m\u001b[1;33m\u001b[0m\u001b[1;33m\u001b[0m\u001b[0m\n\u001b[0m",
      "\u001b[1;31mAttributeError\u001b[0m: module 'cv2.cv2' has no attribute 'destoryAllWindows'"
     ]
    }
   ],
   "source": [
    "# Import Libraries\n",
    "from os import listdir\n",
    "from os.path import isfile, join\n",
    "import cv2\n",
    "\n",
    "\n",
    "# Load our Neural Transfer Models\n",
    "model_file_path = './models/'\n",
    "model_file_paths = [f for f in listdir(model_file_path)]\n",
    "\n",
    "# Load our Test Image\n",
    "img = cv2.imread('./images/Yuki.jpg')\n",
    "\n",
    "# Load our Transfer Style Model\n",
    "model = ('la_muse.t7')\n",
    "\n",
    "# Loop and Apply each Model Style our Test Image\n",
    "for i in model_file_paths:\n",
    "    style = cv2.imread('./art/'+ str(model)[:-3] + '.jpg')\n",
    "\n",
    "\n",
    "    # Load our Neural Transfer Style Model\n",
    "    neural_style_model = cv2.dnn.readNetFromTorch(model_file_path + model)\n",
    "\n",
    "    # Resize it to fix height. You can change it as you want\n",
    "    height, width = int(img.shape[0]), int(img.shape[1])\n",
    "    new_width = int((640/height) * width)\n",
    "    resized_image = cv2.resize(img,\n",
    "                             (new_width, 640),\n",
    "                             interpolation = cv2.INTER_AREA)\n",
    "    \n",
    "    \n",
    "\n",
    "    # Create our blob from the image\n",
    "    # Then perform a forward pass run of the network\n",
    "    # The Mean values for the ImageNet training set are R=103.93, G=116.77, B=123.68\n",
    "    inp_blob = cv2.dnn.blobFromImage(resized_image,\n",
    "                                     1.0, \n",
    "                                    (new_width, 640),\n",
    "                                    (103.93, 116.77, 123.68),\n",
    "                                    swapRB = False,\n",
    "                                    crop = False)\n",
    "    \n",
    "    neural_style_model.setInput(inp_blob)\n",
    "    output = neural_style_model.forward()\n",
    "    \n",
    "    \n",
    "    # Reshape the output Tensor, \n",
    "    # add back the mean substruction,\n",
    "    # re-order the channels\n",
    "    output = output.reshape(3, output.shape[2], output.shape[3])\n",
    "    output[0] += 103.93\n",
    "    output[1] += 116.77\n",
    "    output[2] += 123.68\n",
    "    output /= 255\n",
    "    output = output.transpose(1, 2, 0)\n",
    "        \n",
    "\n",
    "    # Display:\n",
    "    # 1. Original/Test Image\n",
    "    # 2. The Style of the Neural Transfer\n",
    "    # 3. Our result from them\n",
    "    cv2.imshow('Original', img)\n",
    "    cv2.imshow('Style', style)\n",
    "    cv2.imshow('Neural Transfer Style', output)\n",
    "    cv2.waitKey(0)\n",
    "    \n",
    "    \n",
    "    \n",
    "    # Close everything\n",
    "    if cv2.waitKey(0) & 0xFF == 27:\n",
    "        break    \n",
    "    \n",
    "# Destroy All Windows\n",
    "\n",
    "cv2.destoryAllWindows()\n"
   ]
  },
  {
   "cell_type": "code",
   "execution_count": null,
   "metadata": {},
   "outputs": [],
   "source": []
  }
 ],
 "metadata": {
  "kernelspec": {
   "display_name": "Python 3",
   "language": "python",
   "name": "python3"
  },
  "language_info": {
   "codemirror_mode": {
    "name": "ipython",
    "version": 3
   },
   "file_extension": ".py",
   "mimetype": "text/x-python",
   "name": "python",
   "nbconvert_exporter": "python",
   "pygments_lexer": "ipython3",
   "version": "3.7.4"
  }
 },
 "nbformat": 4,
 "nbformat_minor": 2
}
