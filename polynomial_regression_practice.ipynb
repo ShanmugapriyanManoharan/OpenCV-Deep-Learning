{
  "nbformat": 4,
  "nbformat_minor": 0,
  "metadata": {
    "colab": {
      "name": "polynomial_regression_practice.ipynb",
      "provenance": [],
      "collapsed_sections": [],
      "toc_visible": true,
      "include_colab_link": true
    },
    "kernelspec": {
      "name": "python3",
      "display_name": "Python 3"
    }
  },
  "cells": [
    {
      "cell_type": "markdown",
      "metadata": {
        "id": "view-in-github",
        "colab_type": "text"
      },
      "source": [
        "<a href=\"https://colab.research.google.com/github/ShanmugapriyanManoharan/OpenCV-Deep-Learning/blob/master/polynomial_regression_practice.ipynb\" target=\"_parent\"><img src=\"https://colab.research.google.com/assets/colab-badge.svg\" alt=\"Open In Colab\"/></a>"
      ]
    },
    {
      "cell_type": "markdown",
      "metadata": {
        "id": "vN99YjPTDena"
      },
      "source": [
        "# Polynomial Regression"
      ]
    },
    {
      "cell_type": "markdown",
      "metadata": {
        "id": "ZIx_naXnDyHd"
      },
      "source": [
        "## Importing the libraries"
      ]
    },
    {
      "cell_type": "code",
      "metadata": {
        "id": "2SQdihPO559t"
      },
      "source": [
        "import numpy as np\r\n",
        "import matplotlib.pyplot as plt\r\n",
        "import pandas as pd"
      ],
      "execution_count": 1,
      "outputs": []
    },
    {
      "cell_type": "markdown",
      "metadata": {
        "id": "6c8YExmOD5x5"
      },
      "source": [
        "## Importing the dataset"
      ]
    },
    {
      "cell_type": "code",
      "metadata": {
        "id": "HmvSyDFm58Mc"
      },
      "source": [
        "dataset = pd.read_csv('Position_Salaries.csv')\r\n",
        "X = dataset.iloc[:, 1:-1].values\r\n",
        "y = dataset.iloc[:, -1].values"
      ],
      "execution_count": 2,
      "outputs": []
    },
    {
      "cell_type": "markdown",
      "metadata": {
        "id": "Le8SEL-YEOLb"
      },
      "source": [
        "## Training the Linear Regression model on the whole dataset"
      ]
    },
    {
      "cell_type": "code",
      "metadata": {
        "colab": {
          "base_uri": "https://localhost:8080/"
        },
        "id": "ZtVpVdwC6Fb5",
        "outputId": "95571ca7-9a93-4296-ebd3-0dd3d20527ad"
      },
      "source": [
        "from sklearn.linear_model import LinearRegression\r\n",
        "lin_reg =  LinearRegression()\r\n",
        "lin_reg.fit(X, y)"
      ],
      "execution_count": 3,
      "outputs": [
        {
          "output_type": "execute_result",
          "data": {
            "text/plain": [
              "LinearRegression(copy_X=True, fit_intercept=True, n_jobs=None, normalize=False)"
            ]
          },
          "metadata": {
            "tags": []
          },
          "execution_count": 3
        }
      ]
    },
    {
      "cell_type": "markdown",
      "metadata": {
        "id": "Rb5nWuSHEfBV"
      },
      "source": [
        "## Training the Polynomial Regression model on the whole dataset"
      ]
    },
    {
      "cell_type": "code",
      "metadata": {
        "colab": {
          "base_uri": "https://localhost:8080/"
        },
        "id": "2DWKkbqV6hMp",
        "outputId": "4c909459-8b0c-4cca-9b1c-780dc5cc91c0"
      },
      "source": [
        "from sklearn.preprocessing import PolynomialFeatures\r\n",
        "poly_reg = PolynomialFeatures(degree = 4)\r\n",
        "X_poly = poly_reg.fit_transform(X)\r\n",
        "lin_reg2 = LinearRegression()\r\n",
        "lin_reg2.fit(X_poly, y)"
      ],
      "execution_count": 4,
      "outputs": [
        {
          "output_type": "execute_result",
          "data": {
            "text/plain": [
              "LinearRegression(copy_X=True, fit_intercept=True, n_jobs=None, normalize=False)"
            ]
          },
          "metadata": {
            "tags": []
          },
          "execution_count": 4
        }
      ]
    },
    {
      "cell_type": "markdown",
      "metadata": {
        "id": "0O8R0tzbEpvy"
      },
      "source": [
        "## Visualising the Linear Regression results"
      ]
    },
    {
      "cell_type": "code",
      "metadata": {
        "colab": {
          "base_uri": "https://localhost:8080/",
          "height": 295
        },
        "id": "WAN6OzaP8xCm",
        "outputId": "0baa8de5-541b-4549-d384-cb21fe0b15bc"
      },
      "source": [
        "plt.scatter(X, y, color = 'red')\r\n",
        "plt.plot(X, lin_reg.predict(X), color = 'blue')\r\n",
        "plt.title('Truth or Bluff (Linear Regression)')\r\n",
        "plt.xlabel('Position Level')\r\n",
        "plt.ylabel('Salary')\r\n",
        "plt.show()"
      ],
      "execution_count": 5,
      "outputs": [
        {
          "output_type": "display_data",
          "data": {
            "image/png": "[encoded data removed]",
            "text/plain": [
              "<Figure size 432x288 with 1 Axes>"
            ]
          },
          "metadata": {
            "tags": [],
            "needs_background": "light"
          }
        }
      ]
    },
    {
      "cell_type": "markdown",
      "metadata": {
        "id": "stOnSo74E52m"
      },
      "source": [
        "## Visualising the Polynomial Regression results"
      ]
    },
    {
      "cell_type": "code",
      "metadata": {
        "colab": {
          "base_uri": "https://localhost:8080/",
          "height": 295
        },
        "id": "h52GIu-89kMj",
        "outputId": "31cb6166-afbd-4608-c211-40a2623eaa9d"
      },
      "source": [
        "plt.scatter(X, y, color = 'red')\r\n",
        "plt.plot(X, lin_reg2.predict( poly_reg.fit_transform(X)), color = 'blue')\r\n",
        "plt.title('Truth or Bluff (Polynomial Linear Regression)')\r\n",
        "plt.xlabel('Position Level')\r\n",
        "plt.ylabel('Salary')\r\n",
        "plt.show()"
      ],
      "execution_count": 6,
      "outputs": [
        {
          "output_type": "display_data",
          "data": {
            "image/png": "[encoded data removed]",
            "text/plain": [
              "<Figure size 432x288 with 1 Axes>"
            ]
          },
          "metadata": {
            "tags": [],
            "needs_background": "light"
          }
        }
      ]
    },
    {
      "cell_type": "markdown",
      "metadata": {
        "id": "U_qsAMKnE-PJ"
      },
      "source": [
        "## Visualising the Polynomial Regression results (for higher resolution and smoother curve)"
      ]
    },
    {
      "cell_type": "code",
      "metadata": {
        "colab": {
          "base_uri": "https://localhost:8080/",
          "height": 295
        },
        "id": "0mJ04Nut_DSe",
        "outputId": "983f5113-9577-41f9-ad68-48b1f1d1a239"
      },
      "source": [
        "X_grid = np.arange(min(X), max(X), 0.1)\r\n",
        "X_grid = X_grid.reshape((len(X_grid), 1))\r\n",
        "plt.scatter(X, y, color = 'red')\r\n",
        "plt.plot(X_grid, lin_reg2.predict(poly_reg.fit_transform(X_grid)), color = 'blue')\r\n",
        "plt.title('Truth or Bluff (Polynomial Linear Regression)')\r\n",
        "plt.xlabel('Position Level')\r\n",
        "plt.ylabel('Salary')\r\n",
        "plt.show()"
      ],
      "execution_count": 7,
      "outputs": [
        {
          "output_type": "display_data",
          "data": {
            "image/png": "[encoded data removed]",
            "text/plain": [
              "<Figure size 432x288 with 1 Axes>"
            ]
          },
          "metadata": {
            "tags": [],
            "needs_background": "light"
          }
        }
      ]
    },
    {
      "cell_type": "markdown",
      "metadata": {
        "id": "diyJFZHhFFeK"
      },
      "source": [
        "## Predicting a new result with Linear Regression"
      ]
    },
    {
      "cell_type": "code",
      "metadata": {
        "id": "5Gwn4DCz_lUL",
        "colab": {
          "base_uri": "https://localhost:8080/"
        },
        "outputId": "5079336a-779f-4ebe-9dbe-e1bb0d42c369"
      },
      "source": [
        "print(lin_reg.predict([[6.5]]))"
      ],
      "execution_count": 8,
      "outputs": [
        {
          "output_type": "stream",
          "text": [
            "[330378.78787879]\n"
          ],
          "name": "stdout"
        }
      ]
    },
    {
      "cell_type": "markdown",
      "metadata": {
        "id": "DW7I7ZVDFNkk"
      },
      "source": [
        "## Predicting a new result with Polynomial Regression"
      ]
    },
    {
      "cell_type": "code",
      "metadata": {
        "id": "ZxTMQtEd_roM",
        "colab": {
          "base_uri": "https://localhost:8080/"
        },
        "outputId": "d105d2d5-ed56-40cf-8d21-76962ca83c99"
      },
      "source": [
        "X_poly = poly_reg.fit_transform([[6.5]])\r\n",
        "print(lin_reg2.predict(X_poly))"
      ],
      "execution_count": 9,
      "outputs": [
        {
          "output_type": "stream",
          "text": [
            "[158862.45265155]\n"
          ],
          "name": "stdout"
        }
      ]
    }
  ]
}