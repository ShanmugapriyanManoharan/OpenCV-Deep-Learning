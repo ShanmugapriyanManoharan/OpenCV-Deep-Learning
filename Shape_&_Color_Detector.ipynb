{
  "nbformat": 4,
  "nbformat_minor": 0,
  "metadata": {
    "colab": {
      "name": "Shape & Color Detector.ipynb",
      "provenance": [],
      "authorship_tag": "ABX9TyMpF0xyicsxBb8IaT7LFVQl",
      "include_colab_link": true
    },
    "kernelspec": {
      "name": "python3",
      "display_name": "Python 3"
    },
    "accelerator": "GPU"
  },
  "cells": [
    {
      "cell_type": "markdown",
      "metadata": {
        "id": "view-in-github",
        "colab_type": "text"
      },
      "source": [
        "<a href=\"https://colab.research.google.com/github/ShanmugapriyanManoharan/OpenCV-Deep-Learning/blob/master/Shape_%26_Color_Detector.ipynb\" target=\"_parent\"><img src=\"https://colab.research.google.com/assets/colab-badge.svg\" alt=\"Open In Colab\"/></a>"
      ]
    },
    {
      "cell_type": "code",
      "metadata": {
        "id": "85PuwupZM5Oe",
        "colab_type": "code",
        "colab": {}
      },
      "source": [
        "from scipy.spatial import distance as dist\n",
        "from collections import OrderedDict\n",
        "import numpy as np\n",
        "import cv2\n",
        "import imutils\n",
        "from google.colab.patches import cv2_imshow"
      ],
      "execution_count": 0,
      "outputs": []
    },
    {
      "cell_type": "code",
      "metadata": {
        "id": "FK7w3kyyNJAy",
        "colab_type": "code",
        "colab": {}
      },
      "source": [
        "class ColorLabeler:\n",
        "\tdef __init__(self):\n",
        "\t\t# initialize the colors dictionary\n",
        "\t\tcolors = OrderedDict({\n",
        "\t\t\t\"red\": (255, 0, 0),\n",
        "\t\t\t\"green\": (0, 255, 0),\n",
        "\t\t\t\"blue\": (0, 0, 255)})\n",
        "\n",
        "\t\t# allocate memory for the CIE L*a*b* image, then initialize color names\n",
        "    #url: https://en.wikipedia.org/wiki/CIELAB_color_space\n",
        "\t\tself.lab = np.zeros((len(colors), 1, 3), dtype=\"uint8\")\n",
        "\t\tself.colorNames = []\n",
        "\n",
        "\t\t# loop over the colors dictionary\n",
        "\t\tfor (i, (name, rgb)) in enumerate(colors.items()):\n",
        "\t\t\t# update the L*a*b* array (Numpy array) and the color names list\n",
        "\t\t\tself.lab[i] = rgb\n",
        "\t\t\tself.colorNames.append(name)\n",
        "\n",
        "\t\t# convert the L*a*b* array from the RGB color space\n",
        "\t\t# to L*a*b*\n",
        "\t\tself.lab = cv2.cvtColor(self.lab, cv2.COLOR_RGB2LAB)\n",
        "\n",
        "\tdef label(self, image, c):\n",
        "\t\t# construct a mask for the contour, then compute the\n",
        "\t\t# average L*a*b* value for the masked region\n",
        "\t\tmask = np.zeros(image.shape[:2], dtype=\"uint8\")\n",
        "\t\tcv2.drawContours(mask, [c], -1, 255, -1)\n",
        "\t\tmask = cv2.erode(mask, None, iterations=2)\n",
        "\t\tmean = cv2.mean(image, mask=mask)[:3]\n",
        "\n",
        "\t\t# initialize the minimum distance found thus far\n",
        "\t\tminDist = (np.inf, None)\n",
        "\n",
        "\t\t# loop over the known L*a*b* color values\n",
        "\t\tfor (i, row) in enumerate(self.lab):\n",
        "\t\t\t# compute the distance between the current L*a*b*\n",
        "\t\t\t# color value and the mean of the image\n",
        "\t\t\td = dist.euclidean(row[0], mean)\n",
        "\n",
        "\t\t\t# if the distance is smaller than the current distance,\n",
        "\t\t\t# then update the bookkeeping variable\n",
        "\t\t\tif d < minDist[0]:\n",
        "\t\t\t\tminDist = (d, i)\n",
        "\n",
        "\t\t# return the name of the color with the smallest distance\n",
        "\t\treturn self.colorNames[minDist[1]]"
      ],
      "execution_count": 0,
      "outputs": []
    },
    {
      "cell_type": "code",
      "metadata": {
        "id": "W6RItUI5NSmf",
        "colab_type": "code",
        "colab": {}
      },
      "source": [
        "class ShapeDetector:\n",
        "\tdef __init__(self):\n",
        "\t\tpass\n",
        "\n",
        "\tdef detect(self, c):\n",
        "\t\t# Initialize the name of shape and approximate the contour\n",
        "\t\tshape = \"unidentified\"\n",
        "\t\tperi = cv2.arcLength(c, True)\n",
        "\t\tapprox = cv2.approxPolyDP(c, 0.04 * peri, True)\n",
        "\n",
        "\t\t# If vertices = 3, then triangle\n",
        "\t\tif len(approx) == 3:\n",
        "\t\t\tshape = \"triangle\"\n",
        "\n",
        "\t\t# If vertices = 4, then rectangle or square\n",
        "\t\telif len(approx) == 4:\n",
        "\t\t\t# Compute aspect ratio using bounding box of the contour\n",
        "\t\t\t(x, y, w, h) = cv2.boundingRect(approx)\n",
        "\t\t\tar = w / float(h)\n",
        "\n",
        "\t\t\t# If aspect ratio near to 1, then shape is square. otherwise rectangle\n",
        "\t\t\tshape = \"square\" if ar >= 0.95 and ar <= 1.05 else \"rectangle\"\n",
        "\n",
        "\t\t# If vertices =5, then pentagon\n",
        "\t\telif len(approx) == 5:\n",
        "\t\t\tshape = \"pentagon\"\n",
        "\n",
        "    # If vertices =6, then Hexagon\n",
        "\t\telif len(approx) == 6:\n",
        "\t\t\tshape = \"Hexagon\"\n",
        "\n",
        "\t\t# Else, the shape is assumed to be circle\n",
        "\t\telse:\n",
        "\t\t\tshape = \"circle\"\n",
        "\n",
        "\t\t# return the name of the shape\n",
        "\t\treturn shape"
      ],
      "execution_count": 0,
      "outputs": []
    },
    {
      "cell_type": "code",
      "metadata": {
        "id": "gBhA907eNck-",
        "colab_type": "code",
        "colab": {}
      },
      "source": [
        "# load the image and resize using imutils to a smaller factor so that the shapes can be approximated better\n",
        "image = cv2.imread(\"shapes.png\")\n",
        "resized = imutils.resize(image, width=300)\n",
        "ratio = image.shape[0] / float(resized.shape[0])"
      ],
      "execution_count": 0,
      "outputs": []
    },
    {
      "cell_type": "code",
      "metadata": {
        "id": "7kei27OLNwR3",
        "colab_type": "code",
        "colab": {
          "base_uri": "https://localhost:8080/",
          "height": 247
        },
        "outputId": "985acd58-c65c-4815-d2e7-82c989f31d1f"
      },
      "source": [
        "# Blur and Grayscale the image and threshold it and the L*a*b* color spaces\n",
        "blurred = cv2.GaussianBlur(resized, (5, 5), 0)\n",
        "gray = cv2.cvtColor(blurred, cv2.COLOR_BGR2GRAY)\n",
        "lab = cv2.cvtColor(blurred, cv2.COLOR_BGR2LAB)\n",
        "thresh = cv2.threshold(gray, 60, 255, cv2.THRESH_BINARY)[1]\n",
        "cv2_imshow(thresh)"
      ],
      "execution_count": 28,
      "outputs": [
        {
          "output_type": "display_data",
          "data": {
            "image/png": "[encoded data removed]",
            "text/plain": [
              "<PIL.Image.Image image mode=L size=300x230 at 0x7F68E01486D8>"
            ]
          },
          "metadata": {
            "tags": []
          }
        }
      ]
    },
    {
      "cell_type": "code",
      "metadata": {
        "id": "kwLlPMGCN0Ij",
        "colab_type": "code",
        "colab": {}
      },
      "source": [
        "# find contours in the thresholded image\n",
        "cnts = cv2.findContours(thresh.copy(), cv2.RETR_EXTERNAL,\n",
        "\tcv2.CHAIN_APPROX_SIMPLE)\n",
        "cnts = imutils.grab_contours(cnts)"
      ],
      "execution_count": 0,
      "outputs": []
    },
    {
      "cell_type": "code",
      "metadata": {
        "id": "wOPw2_qtN2QJ",
        "colab_type": "code",
        "colab": {}
      },
      "source": [
        "# initialize the shape detector and color labeler\n",
        "sd = ShapeDetector()\n",
        "cl = ColorLabeler()"
      ],
      "execution_count": 0,
      "outputs": []
    },
    {
      "cell_type": "code",
      "metadata": {
        "id": "DNPY9pRSN4Gu",
        "colab_type": "code",
        "colab": {
          "base_uri": "https://localhost:8080/",
          "height": 1000
        },
        "outputId": "5f08061a-c12c-45f4-d199-8bef817f14cb"
      },
      "source": [
        "# loop over the contours\n",
        "for c in cnts:\n",
        "\t# compute the center of the contour\n",
        "\tM = cv2.moments(c)\n",
        "\tcX = int((M[\"m10\"] / M[\"m00\"]) * ratio)\n",
        "\tcY = int((M[\"m01\"] / M[\"m00\"]) * ratio)\n",
        "\n",
        "\t# detect the shape of the contour and label the color\n",
        "\tshape = sd.detect(c)\n",
        "\tcolor = cl.label(lab, c)\n",
        "\n",
        "\t# multiply the contour (x, y)-coordinates by the resize ratio,\n",
        "\t# then draw the contours and the name of the shape and labeled\n",
        "\t# color on the image\n",
        "\tc = c.astype(\"float\")\n",
        "\tc *= ratio\n",
        "\tc = c.astype(\"int\")\n",
        "\ttext = \"{} {}\".format(color, shape)\n",
        "\tcv2.drawContours(image, [c], -1, (0, 255, 0), 2)\n",
        "\tcv2.putText(image, text, (cX, cY),\n",
        "\t\tcv2.FONT_HERSHEY_SIMPLEX, 0.5, (255, 255, 255), 2)\n",
        "\n",
        "\t# show the output image\n",
        "\tcv2_imshow(image)"
      ],
      "execution_count": 27,
      "outputs": [
        {
          "output_type": "display_data",
          "data": {
            "image/png": "[encoded data removed]",
            "text/plain": [
              "<PIL.Image.Image image mode=RGB size=601x462 at 0x7F68DF85A6A0>"
            ]
          },
          "metadata": {
            "tags": []
          }
        },
        {
          "output_type": "display_data",
          "data": {
            "image/png": "[encoded data removed]",
            "text/plain": [
              "<PIL.Image.Image image mode=RGB size=601x462 at 0x7F68DF85D908>"
            ]
          },
          "metadata": {
            "tags": []
          }
        },
        {
          "output_type": "display_data",
          "data": {
            "image/png": "[encoded data removed]",
            "text/plain": [
              "<PIL.Image.Image image mode=RGB size=601x462 at 0x7F68DF8B3EF0>"
            ]
          },
          "metadata": {
            "tags": []
          }
        },
        {
          "output_type": "display_data",
          "data": {
            "image/png": "[encoded data removed]",
            "text/plain": [
              "<PIL.Image.Image image mode=RGB size=601x462 at 0x7F68DF85A668>"
            ]
          },
          "metadata": {
            "tags": []
          }
        },
        {
          "output_type": "display_data",
          "data": {
            "image/png": "[encoded data removed]",
            "text/plain": [
              "<PIL.Image.Image image mode=RGB size=601x462 at 0x7F68DF85A5F8>"
            ]
          },
          "metadata": {
            "tags": []
          }
        },
        {
          "output_type": "display_data",
          "data": {
            "image/png": "[encoded data removed]",
            "text/plain": [
              "<PIL.Image.Image image mode=RGB size=601x462 at 0x7F68DF85A668>"
            ]
          },
          "metadata": {
            "tags": []
          }
        },
        {
          "output_type": "display_data",
          "data": {
            "image/png": "[encoded data removed]",
            "text/plain": [
              "<PIL.Image.Image image mode=RGB size=601x462 at 0x7F68DF8B3EF0>"
            ]
          },
          "metadata": {
            "tags": []
          }
        }
      ]
    },
    {
      "cell_type": "code",
      "metadata": {
        "id": "S4PO_xAQN77K",
        "colab_type": "code",
        "colab": {}
      },
      "source": [
        ""
      ],
      "execution_count": 0,
      "outputs": []
    }
  ]
}