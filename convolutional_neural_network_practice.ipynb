{
  "nbformat": 4,
  "nbformat_minor": 0,
  "metadata": {
    "colab": {
      "name": "convolutional_neural_network_practice.ipynb",
      "provenance": [],
      "collapsed_sections": [],
      "toc_visible": true,
      "include_colab_link": true
    },
    "kernelspec": {
      "name": "python3",
      "display_name": "Python 3"
    },
    "accelerator": "GPU"
  },
  "cells": [
    {
      "cell_type": "markdown",
      "metadata": {
        "id": "view-in-github",
        "colab_type": "text"
      },
      "source": [
        "<a href=\"https://colab.research.google.com/github/ShanmugapriyanManoharan/OpenCV-Deep-Learning/blob/master/convolutional_neural_network_practice.ipynb\" target=\"_parent\"><img src=\"https://colab.research.google.com/assets/colab-badge.svg\" alt=\"Open In Colab\"/></a>"
      ]
    },
    {
      "cell_type": "markdown",
      "metadata": {
        "id": "3DR-eO17geWu"
      },
      "source": [
        "# Convolutional Neural Network"
      ]
    },
    {
      "cell_type": "markdown",
      "metadata": {
        "id": "dJ-OlVUH1BDR"
      },
      "source": [
        "### Mounting the Google Drive and unzipping the dataset"
      ]
    },
    {
      "cell_type": "code",
      "metadata": {
        "colab": {
          "base_uri": "https://localhost:8080/"
        },
        "id": "ygKDFdrWqnIv",
        "outputId": "7b81344b-5c71-4814-cc26-5209c2a381a4"
      },
      "source": [
        "from google.colab import drive\n",
        "drive.mount('/content/drive')"
      ],
      "execution_count": 1,
      "outputs": [
        {
          "output_type": "stream",
          "text": [
            "Drive already mounted at /content/drive; to attempt to forcibly remount, call drive.mount(\"/content/drive\", force_remount=True).\n"
          ],
          "name": "stdout"
        }
      ]
    },
    {
      "cell_type": "code",
      "metadata": {
        "colab": {
          "base_uri": "https://localhost:8080/"
        },
        "id": "0qU1-R2SrFLz",
        "outputId": "b9819c2f-3e3a-411f-c5df-149ca5ede1a2"
      },
      "source": [
        "from zipfile import ZipFile\r\n",
        "filename = '/content/drive/MyDrive/CNN_Classification_dataset.zip'\r\n",
        "\r\n",
        "with ZipFile(filename, 'r') as zip1:\r\n",
        "  zip1.extractall()\r\n",
        "  print('done')"
      ],
      "execution_count": 2,
      "outputs": [
        {
          "output_type": "stream",
          "text": [
            "done\n"
          ],
          "name": "stdout"
        }
      ]
    },
    {
      "cell_type": "markdown",
      "metadata": {
        "id": "EMefrVPCg-60"
      },
      "source": [
        "### Importing the libraries"
      ]
    },
    {
      "cell_type": "code",
      "metadata": {
        "id": "B6DzdgHIpuFn"
      },
      "source": [
        "import tensorflow as tf\r\n",
        "from keras.preprocessing.image import ImageDataGenerator"
      ],
      "execution_count": 3,
      "outputs": []
    },
    {
      "cell_type": "code",
      "metadata": {
        "colab": {
          "base_uri": "https://localhost:8080/",
          "height": 35
        },
        "id": "WA10LERxpz9l",
        "outputId": "26b14be9-da7b-4f8d-db71-72951fc7d2ec"
      },
      "source": [
        "tf.__version__"
      ],
      "execution_count": 4,
      "outputs": [
        {
          "output_type": "execute_result",
          "data": {
            "application/vnd.google.colaboratory.intrinsic+json": {
              "type": "string"
            },
            "text/plain": [
              "'2.4.1'"
            ]
          },
          "metadata": {
            "tags": []
          },
          "execution_count": 4
        }
      ]
    },
    {
      "cell_type": "markdown",
      "metadata": {
        "id": "oxQxCBWyoGPE"
      },
      "source": [
        "## Part 1 - Data Preprocessing"
      ]
    },
    {
      "cell_type": "markdown",
      "metadata": {
        "id": "MvE-heJNo3GG"
      },
      "source": [
        "### Preprocessing the Training set"
      ]
    },
    {
      "cell_type": "code",
      "metadata": {
        "colab": {
          "base_uri": "https://localhost:8080/"
        },
        "id": "YEEXxKhjp8l7",
        "outputId": "345c2247-9935-4924-dbd0-d22c70c45521"
      },
      "source": [
        "train_datagen = ImageDataGenerator(\r\n",
        "        rescale=1./255, #feature scaling by dividing all pixel values by 255\r\n",
        "        shear_range=0.2,\r\n",
        "        zoom_range=0.2,\r\n",
        "        horizontal_flip=True)\r\n",
        "training_set = train_datagen.flow_from_directory(\r\n",
        "        '/content/CNNdataset/dataset/training_set',\r\n",
        "        target_size=(64, 64),\r\n",
        "        batch_size=32,\r\n",
        "        class_mode='binary')"
      ],
      "execution_count": 5,
      "outputs": [
        {
          "output_type": "stream",
          "text": [
            "Found 8000 images belonging to 2 classes.\n"
          ],
          "name": "stdout"
        }
      ]
    },
    {
      "cell_type": "markdown",
      "metadata": {
        "id": "mrCMmGw9pHys"
      },
      "source": [
        "### Preprocessing the Test set"
      ]
    },
    {
      "cell_type": "code",
      "metadata": {
        "colab": {
          "base_uri": "https://localhost:8080/"
        },
        "id": "xF_HOEV6smFp",
        "outputId": "7812e3d7-cad3-4341-cc2f-6d72c468d9aa"
      },
      "source": [
        "test_datagen = ImageDataGenerator(rescale=1./255)\r\n",
        "test_set = test_datagen.flow_from_directory(\r\n",
        "        '/content/CNNdataset/dataset/test_set',\r\n",
        "        target_size=(64, 64),\r\n",
        "        batch_size=32,\r\n",
        "        class_mode='binary')"
      ],
      "execution_count": 6,
      "outputs": [
        {
          "output_type": "stream",
          "text": [
            "Found 2000 images belonging to 2 classes.\n"
          ],
          "name": "stdout"
        }
      ]
    },
    {
      "cell_type": "markdown",
      "metadata": {
        "id": "af8O4l90gk7B"
      },
      "source": [
        "## Part 2 - Building the CNN"
      ]
    },
    {
      "cell_type": "markdown",
      "metadata": {
        "id": "ces1gXY2lmoX"
      },
      "source": [
        "### Initialising the CNN"
      ]
    },
    {
      "cell_type": "code",
      "metadata": {
        "id": "L9vQH_TrtQDF"
      },
      "source": [
        "cnn = tf.keras.models.Sequential()"
      ],
      "execution_count": 7,
      "outputs": []
    },
    {
      "cell_type": "markdown",
      "metadata": {
        "id": "u5YJj_XMl5LF"
      },
      "source": [
        "### Step 1 - Convolution"
      ]
    },
    {
      "cell_type": "code",
      "metadata": {
        "id": "dkd-EK0PtTwl"
      },
      "source": [
        "cnn.add(tf.keras.layers.Conv2D(filters = 32, kernel_size = 3, activation = 'relu', input_shape = [64, 64, 3]))"
      ],
      "execution_count": 9,
      "outputs": []
    },
    {
      "cell_type": "markdown",
      "metadata": {
        "id": "tf87FpvxmNOJ"
      },
      "source": [
        "### Step 2 - Pooling"
      ]
    },
    {
      "cell_type": "code",
      "metadata": {
        "id": "zCdUy0WOt8gK"
      },
      "source": [
        "cnn.add(tf.keras.layers.MaxPool2D(pool_size =2, strides = 2))"
      ],
      "execution_count": 11,
      "outputs": []
    },
    {
      "cell_type": "markdown",
      "metadata": {
        "id": "xaTOgD8rm4mU"
      },
      "source": [
        "### Adding a second convolutional layer"
      ]
    },
    {
      "cell_type": "code",
      "metadata": {
        "id": "NdFpZPIyucjp"
      },
      "source": [
        "cnn.add(tf.keras.layers.Conv2D(filters = 32, kernel_size = 3, activation = 'relu'))\r\n",
        "cnn.add(tf.keras.layers.MaxPool2D(pool_size =2, strides = 2))"
      ],
      "execution_count": 13,
      "outputs": []
    },
    {
      "cell_type": "markdown",
      "metadata": {
        "id": "tmiEuvTunKfk"
      },
      "source": [
        "### Step 3 - Flattening"
      ]
    },
    {
      "cell_type": "code",
      "metadata": {
        "id": "vVnjSanGujTQ"
      },
      "source": [
        "cnn.add(tf.keras.layers.Flatten())"
      ],
      "execution_count": 15,
      "outputs": []
    },
    {
      "cell_type": "markdown",
      "metadata": {
        "id": "dAoSECOm203v"
      },
      "source": [
        "### Step 4 - Full Connection"
      ]
    },
    {
      "cell_type": "code",
      "metadata": {
        "id": "7PV6ymLNus02"
      },
      "source": [
        "cnn.add(tf.keras.layers.Dense(units = 128, activation = 'relu'))"
      ],
      "execution_count": 16,
      "outputs": []
    },
    {
      "cell_type": "markdown",
      "metadata": {
        "id": "yTldFvbX28Na"
      },
      "source": [
        "### Step 5 - Output Layer"
      ]
    },
    {
      "cell_type": "code",
      "metadata": {
        "id": "ML85FQvfu_Hk"
      },
      "source": [
        "cnn.add(tf.keras.layers.Dense(units = 1, activation = 'sigmoid')) #binary classification so sigmoid or else softmax for multiclass classificaiton"
      ],
      "execution_count": 17,
      "outputs": []
    },
    {
      "cell_type": "markdown",
      "metadata": {
        "id": "D6XkI90snSDl"
      },
      "source": [
        "## Part 3 - Training the CNN"
      ]
    },
    {
      "cell_type": "markdown",
      "metadata": {
        "id": "vfrFQACEnc6i"
      },
      "source": [
        "### Compiling the CNN"
      ]
    },
    {
      "cell_type": "code",
      "metadata": {
        "id": "-weB4LyGwdAl"
      },
      "source": [
        "cnn.compile(optimizer = 'adam', loss = 'binary_crossentropy', metrics = ['accuracy'])"
      ],
      "execution_count": 19,
      "outputs": []
    },
    {
      "cell_type": "markdown",
      "metadata": {
        "id": "ehS-v3MIpX2h"
      },
      "source": [
        "### Training the CNN on the Training set and evaluating it on the Test set"
      ]
    },
    {
      "cell_type": "code",
      "metadata": {
        "colab": {
          "base_uri": "https://localhost:8080/"
        },
        "id": "0D-pbv0lwm6b",
        "outputId": "43ef304a-39f8-43e5-f529-5df9acbbb131"
      },
      "source": [
        "cnn.fit(x = training_set, validation_data = test_set, epochs = 25)#batch size given in training_set & test_Set preprocessing"
      ],
      "execution_count": 20,
      "outputs": [
        {
          "output_type": "stream",
          "text": [
            "Epoch 1/25\n",
            "250/250 [==============================] - 39s 128ms/step - loss: 0.6887 - accuracy: 0.5568 - val_loss: 0.6032 - val_accuracy: 0.6780\n",
            "Epoch 2/25\n",
            "250/250 [==============================] - 32s 127ms/step - loss: 0.6180 - accuracy: 0.6567 - val_loss: 0.5644 - val_accuracy: 0.6980\n",
            "Epoch 3/25\n",
            "250/250 [==============================] - 31s 125ms/step - loss: 0.5724 - accuracy: 0.7097 - val_loss: 0.5299 - val_accuracy: 0.7500\n",
            "Epoch 4/25\n",
            "250/250 [==============================] - 31s 125ms/step - loss: 0.5145 - accuracy: 0.7523 - val_loss: 0.5050 - val_accuracy: 0.7550\n",
            "Epoch 5/25\n",
            "250/250 [==============================] - 32s 126ms/step - loss: 0.5036 - accuracy: 0.7528 - val_loss: 0.4975 - val_accuracy: 0.7535\n",
            "Epoch 6/25\n",
            "250/250 [==============================] - 31s 123ms/step - loss: 0.4907 - accuracy: 0.7628 - val_loss: 0.5892 - val_accuracy: 0.7205\n",
            "Epoch 7/25\n",
            "250/250 [==============================] - 31s 124ms/step - loss: 0.4870 - accuracy: 0.7619 - val_loss: 0.4654 - val_accuracy: 0.7775\n",
            "Epoch 8/25\n",
            "250/250 [==============================] - 31s 124ms/step - loss: 0.4634 - accuracy: 0.7780 - val_loss: 0.4599 - val_accuracy: 0.7870\n",
            "Epoch 9/25\n",
            "250/250 [==============================] - 31s 124ms/step - loss: 0.4412 - accuracy: 0.7872 - val_loss: 0.4862 - val_accuracy: 0.7795\n",
            "Epoch 10/25\n",
            "250/250 [==============================] - 31s 124ms/step - loss: 0.4287 - accuracy: 0.8018 - val_loss: 0.4481 - val_accuracy: 0.8010\n",
            "Epoch 11/25\n",
            "250/250 [==============================] - 31s 123ms/step - loss: 0.4185 - accuracy: 0.8084 - val_loss: 0.4475 - val_accuracy: 0.8035\n",
            "Epoch 12/25\n",
            "250/250 [==============================] - 31s 123ms/step - loss: 0.4215 - accuracy: 0.8030 - val_loss: 0.4438 - val_accuracy: 0.8015\n",
            "Epoch 13/25\n",
            "250/250 [==============================] - 31s 123ms/step - loss: 0.3840 - accuracy: 0.8223 - val_loss: 0.4600 - val_accuracy: 0.7925\n",
            "Epoch 14/25\n",
            "250/250 [==============================] - 30s 122ms/step - loss: 0.3946 - accuracy: 0.8207 - val_loss: 0.4700 - val_accuracy: 0.7930\n",
            "Epoch 15/25\n",
            "250/250 [==============================] - 31s 123ms/step - loss: 0.3904 - accuracy: 0.8210 - val_loss: 0.4554 - val_accuracy: 0.8090\n",
            "Epoch 16/25\n",
            "250/250 [==============================] - 30s 121ms/step - loss: 0.3715 - accuracy: 0.8292 - val_loss: 0.4747 - val_accuracy: 0.7960\n",
            "Epoch 17/25\n",
            "250/250 [==============================] - 30s 121ms/step - loss: 0.3565 - accuracy: 0.8421 - val_loss: 0.4428 - val_accuracy: 0.8090\n",
            "Epoch 18/25\n",
            "250/250 [==============================] - 30s 121ms/step - loss: 0.3501 - accuracy: 0.8383 - val_loss: 0.4734 - val_accuracy: 0.7905\n",
            "Epoch 19/25\n",
            "250/250 [==============================] - 31s 124ms/step - loss: 0.3316 - accuracy: 0.8416 - val_loss: 0.4273 - val_accuracy: 0.8245\n",
            "Epoch 20/25\n",
            "250/250 [==============================] - 32s 127ms/step - loss: 0.3245 - accuracy: 0.8557 - val_loss: 0.4534 - val_accuracy: 0.8095\n",
            "Epoch 21/25\n",
            "250/250 [==============================] - 30s 121ms/step - loss: 0.3214 - accuracy: 0.8607 - val_loss: 0.4815 - val_accuracy: 0.8090\n",
            "Epoch 22/25\n",
            "250/250 [==============================] - 30s 122ms/step - loss: 0.3083 - accuracy: 0.8692 - val_loss: 0.4627 - val_accuracy: 0.8075\n",
            "Epoch 23/25\n",
            "250/250 [==============================] - 30s 121ms/step - loss: 0.3041 - accuracy: 0.8691 - val_loss: 0.4556 - val_accuracy: 0.8060\n",
            "Epoch 24/25\n",
            "250/250 [==============================] - 30s 121ms/step - loss: 0.2947 - accuracy: 0.8701 - val_loss: 0.4595 - val_accuracy: 0.8050\n",
            "Epoch 25/25\n",
            "250/250 [==============================] - 30s 121ms/step - loss: 0.2849 - accuracy: 0.8767 - val_loss: 0.4736 - val_accuracy: 0.8160\n"
          ],
          "name": "stdout"
        },
        {
          "output_type": "execute_result",
          "data": {
            "text/plain": [
              "<tensorflow.python.keras.callbacks.History at 0x7f0cf36f9be0>"
            ]
          },
          "metadata": {
            "tags": []
          },
          "execution_count": 20
        }
      ]
    },
    {
      "cell_type": "markdown",
      "metadata": {
        "id": "U3PZasO0006Z"
      },
      "source": [
        "## Part 4 - Making a single prediction"
      ]
    },
    {
      "cell_type": "code",
      "metadata": {
        "colab": {
          "base_uri": "https://localhost:8080/"
        },
        "id": "IlmYaB56zNTv",
        "outputId": "1cbbdc1c-3b3a-487d-c4dc-8649c7fbc82a"
      },
      "source": [
        "training_set.class_indices #show cat corresponds to index 0 and dog corresponds to index 1"
      ],
      "execution_count": 21,
      "outputs": [
        {
          "output_type": "execute_result",
          "data": {
            "text/plain": [
              "{'cats': 0, 'dogs': 1}"
            ]
          },
          "metadata": {
            "tags": []
          },
          "execution_count": 21
        }
      ]
    },
    {
      "cell_type": "code",
      "metadata": {
        "id": "3OhavXzjxgRD"
      },
      "source": [
        "import numpy as np\r\n",
        "from keras.preprocessing import image\r\n",
        "test_image = image.load_img('/content/CNNdataset/dataset/single_prediction/cat_or_dog_1.jpg', target_size= (64, 64))\r\n",
        "test_image = image.img_to_array(test_image) #converting into array\r\n",
        "test_image = np.expand_dims(test_image, axis = 0) #adding fake dimension corresponding to the batch size\r\n",
        "result = cnn.predict(test_image)\r\n",
        "if result[0][0] == 1:\r\n",
        "  prediction = 'dog'\r\n",
        "else:\r\n",
        "  prediction = 'cat'"
      ],
      "execution_count": 31,
      "outputs": []
    },
    {
      "cell_type": "code",
      "metadata": {
        "colab": {
          "base_uri": "https://localhost:8080/"
        },
        "id": "PkOR6a9S0KJv",
        "outputId": "d07fcb5c-8869-469f-9366-d7b4cf9b731d"
      },
      "source": [
        "print(prediction)"
      ],
      "execution_count": 32,
      "outputs": [
        {
          "output_type": "stream",
          "text": [
            "dog\n"
          ],
          "name": "stdout"
        }
      ]
    }
  ]
}